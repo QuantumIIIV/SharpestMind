{
 "cells": [
  {
   "cell_type": "markdown",
   "metadata": {},
   "source": [
    "# Logistic Regression - See Input Lines"
   ]
  },
  {
   "cell_type": "markdown",
   "metadata": {},
   "source": [
    " In this notebook explore prediction tasks where the response variable is categorical instead of numeric and look at a common classification technique known as logistic regression. We apply this technique to a data_set containing survival data for the passengers of the Titanic.\n",
    "\n",
    "As part of the analysis, we will be doing the following:\n",
    "Data extraction : we'll load the dataset and have a look at it.\n",
    "Cleaning : we'll fill in some of the missing values.\n",
    "Plotting : we'll create several charts that will (hopefully) help identify correlations and other insights\n",
    "\n",
    "Two datasets are available: a training set and a test set. We'll be using the training set to build our predictive model and the testing set to evaluate it."
   ]
  },
  {
   "cell_type": "code",
   "execution_count": 1,
   "metadata": {
    "collapsed": true,
    "jupyter": {
     "outputs_hidden": true
    }
   },
   "outputs": [],
   "source": [
    "# import useful modules \n",
    "import pandas as pd\n",
    "from pandas import DataFrame\n",
    "import re\n",
    "import numpy as np\n",
    "import matplotlib.pyplot as plt\n",
    "try:\n",
    "    import seaborn as sns\n",
    "except:\n",
    "    !pip install seaborn\n",
    "%matplotlib inline"
   ]
  },
  {
   "cell_type": "code",
   "execution_count": 2,
   "metadata": {
    "collapsed": true,
    "jupyter": {
     "outputs_hidden": true
    }
   },
   "outputs": [],
   "source": [
    "import warnings\n",
    "warnings.filterwarnings(\"ignore\")\n",
    "sns.set_style('whitegrid')"
   ]
  },
  {
   "cell_type": "markdown",
   "metadata": {},
   "source": [
    "Let us start by loading the training set and having a first look at our data:"
   ]
  },
  {
   "cell_type": "code",
   "execution_count": 3,
   "metadata": {
    "collapsed": false,
    "jupyter": {
     "outputs_hidden": false
    }
   },
   "outputs": [
    {
     "data": {
      "text/html": [
       "<div>\n",
       "<style scoped>\n",
       "    .dataframe tbody tr th:only-of-type {\n",
       "        vertical-align: middle;\n",
       "    }\n",
       "\n",
       "    .dataframe tbody tr th {\n",
       "        vertical-align: top;\n",
       "    }\n",
       "\n",
       "    .dataframe thead th {\n",
       "        text-align: right;\n",
       "    }\n",
       "</style>\n",
       "<table border=\"1\" class=\"dataframe\">\n",
       "  <thead>\n",
       "    <tr style=\"text-align: right;\">\n",
       "      <th></th>\n",
       "      <th>PassengerId</th>\n",
       "      <th>Survived</th>\n",
       "      <th>Pclass</th>\n",
       "      <th>Name</th>\n",
       "      <th>Sex</th>\n",
       "      <th>Age</th>\n",
       "      <th>SibSp</th>\n",
       "      <th>Parch</th>\n",
       "      <th>Ticket</th>\n",
       "      <th>Fare</th>\n",
       "      <th>Cabin</th>\n",
       "      <th>Embarked</th>\n",
       "    </tr>\n",
       "  </thead>\n",
       "  <tbody>\n",
       "    <tr>\n",
       "      <th>741</th>\n",
       "      <td>742</td>\n",
       "      <td>0</td>\n",
       "      <td>1</td>\n",
       "      <td>Cavendish, Mr. Tyrell William</td>\n",
       "      <td>male</td>\n",
       "      <td>36.0</td>\n",
       "      <td>1</td>\n",
       "      <td>0</td>\n",
       "      <td>19877</td>\n",
       "      <td>78.850</td>\n",
       "      <td>C46</td>\n",
       "      <td>S</td>\n",
       "    </tr>\n",
       "    <tr>\n",
       "      <th>850</th>\n",
       "      <td>851</td>\n",
       "      <td>0</td>\n",
       "      <td>3</td>\n",
       "      <td>Andersson, Master. Sigvard Harald Elias</td>\n",
       "      <td>male</td>\n",
       "      <td>4.0</td>\n",
       "      <td>4</td>\n",
       "      <td>2</td>\n",
       "      <td>347082</td>\n",
       "      <td>31.275</td>\n",
       "      <td>NaN</td>\n",
       "      <td>S</td>\n",
       "    </tr>\n",
       "    <tr>\n",
       "      <th>666</th>\n",
       "      <td>667</td>\n",
       "      <td>0</td>\n",
       "      <td>2</td>\n",
       "      <td>Butler, Mr. Reginald Fenton</td>\n",
       "      <td>male</td>\n",
       "      <td>25.0</td>\n",
       "      <td>0</td>\n",
       "      <td>0</td>\n",
       "      <td>234686</td>\n",
       "      <td>13.000</td>\n",
       "      <td>NaN</td>\n",
       "      <td>S</td>\n",
       "    </tr>\n",
       "    <tr>\n",
       "      <th>446</th>\n",
       "      <td>447</td>\n",
       "      <td>1</td>\n",
       "      <td>2</td>\n",
       "      <td>Mellinger, Miss. Madeleine Violet</td>\n",
       "      <td>female</td>\n",
       "      <td>13.0</td>\n",
       "      <td>0</td>\n",
       "      <td>1</td>\n",
       "      <td>250644</td>\n",
       "      <td>19.500</td>\n",
       "      <td>NaN</td>\n",
       "      <td>S</td>\n",
       "    </tr>\n",
       "    <tr>\n",
       "      <th>232</th>\n",
       "      <td>233</td>\n",
       "      <td>0</td>\n",
       "      <td>2</td>\n",
       "      <td>Sjostedt, Mr. Ernst Adolf</td>\n",
       "      <td>male</td>\n",
       "      <td>59.0</td>\n",
       "      <td>0</td>\n",
       "      <td>0</td>\n",
       "      <td>237442</td>\n",
       "      <td>13.500</td>\n",
       "      <td>NaN</td>\n",
       "      <td>S</td>\n",
       "    </tr>\n",
       "  </tbody>\n",
       "</table>\n",
       "</div>"
      ],
      "text/plain": [
       "     PassengerId  Survived  Pclass                                     Name  \\\n",
       "741          742         0       1            Cavendish, Mr. Tyrell William   \n",
       "850          851         0       3  Andersson, Master. Sigvard Harald Elias   \n",
       "666          667         0       2              Butler, Mr. Reginald Fenton   \n",
       "446          447         1       2        Mellinger, Miss. Madeleine Violet   \n",
       "232          233         0       2                Sjostedt, Mr. Ernst Adolf   \n",
       "\n",
       "        Sex   Age  SibSp  Parch  Ticket    Fare Cabin Embarked  \n",
       "741    male  36.0      1      0   19877  78.850   C46        S  \n",
       "850    male   4.0      4      2  347082  31.275   NaN        S  \n",
       "666    male  25.0      0      0  234686  13.000   NaN        S  \n",
       "446  female  13.0      0      1  250644  19.500   NaN        S  \n",
       "232    male  59.0      0      0  237442  13.500   NaN        S  "
      ]
     },
     "execution_count": 3,
     "metadata": {},
     "output_type": "execute_result"
    }
   ],
   "source": [
    "data = pd.read_csv(\"Titanic_original2.csv\")\n",
    "#test_data  = pd.read_csv(\"Titanic_test.csv\")\n",
    "from sklearn.model_selection import train_test_split\n",
    "\n",
    "training_data, test_data = train_test_split(data, test_size = 0.33)\n",
    "\n",
    "training_data.head()"
   ]
  },
  {
   "cell_type": "code",
   "execution_count": 4,
   "metadata": {
    "collapsed": false,
    "jupyter": {
     "outputs_hidden": false
    }
   },
   "outputs": [
    {
     "data": {
      "text/html": [
       "<div>\n",
       "<style scoped>\n",
       "    .dataframe tbody tr th:only-of-type {\n",
       "        vertical-align: middle;\n",
       "    }\n",
       "\n",
       "    .dataframe tbody tr th {\n",
       "        vertical-align: top;\n",
       "    }\n",
       "\n",
       "    .dataframe thead th {\n",
       "        text-align: right;\n",
       "    }\n",
       "</style>\n",
       "<table border=\"1\" class=\"dataframe\">\n",
       "  <thead>\n",
       "    <tr style=\"text-align: right;\">\n",
       "      <th></th>\n",
       "      <th>PassengerId</th>\n",
       "      <th>Survived</th>\n",
       "      <th>Pclass</th>\n",
       "      <th>Name</th>\n",
       "      <th>Sex</th>\n",
       "      <th>Age</th>\n",
       "      <th>SibSp</th>\n",
       "      <th>Parch</th>\n",
       "      <th>Ticket</th>\n",
       "      <th>Fare</th>\n",
       "      <th>Cabin</th>\n",
       "      <th>Embarked</th>\n",
       "    </tr>\n",
       "  </thead>\n",
       "  <tbody>\n",
       "    <tr>\n",
       "      <th>133</th>\n",
       "      <td>134</td>\n",
       "      <td>1</td>\n",
       "      <td>2</td>\n",
       "      <td>Weisz, Mrs. Leopold (Mathilde Francoise Pede)</td>\n",
       "      <td>female</td>\n",
       "      <td>29.0</td>\n",
       "      <td>1</td>\n",
       "      <td>0</td>\n",
       "      <td>228414</td>\n",
       "      <td>26.0000</td>\n",
       "      <td>NaN</td>\n",
       "      <td>S</td>\n",
       "    </tr>\n",
       "    <tr>\n",
       "      <th>502</th>\n",
       "      <td>503</td>\n",
       "      <td>0</td>\n",
       "      <td>3</td>\n",
       "      <td>O'Sullivan, Miss. Bridget Mary</td>\n",
       "      <td>female</td>\n",
       "      <td>NaN</td>\n",
       "      <td>0</td>\n",
       "      <td>0</td>\n",
       "      <td>330909</td>\n",
       "      <td>7.6292</td>\n",
       "      <td>NaN</td>\n",
       "      <td>Q</td>\n",
       "    </tr>\n",
       "    <tr>\n",
       "      <th>813</th>\n",
       "      <td>814</td>\n",
       "      <td>0</td>\n",
       "      <td>3</td>\n",
       "      <td>Andersson, Miss. Ebba Iris Alfrida</td>\n",
       "      <td>female</td>\n",
       "      <td>6.0</td>\n",
       "      <td>4</td>\n",
       "      <td>2</td>\n",
       "      <td>347082</td>\n",
       "      <td>31.2750</td>\n",
       "      <td>NaN</td>\n",
       "      <td>S</td>\n",
       "    </tr>\n",
       "    <tr>\n",
       "      <th>383</th>\n",
       "      <td>384</td>\n",
       "      <td>1</td>\n",
       "      <td>1</td>\n",
       "      <td>Holverson, Mrs. Alexander Oskar (Mary Aline To...</td>\n",
       "      <td>female</td>\n",
       "      <td>35.0</td>\n",
       "      <td>1</td>\n",
       "      <td>0</td>\n",
       "      <td>113789</td>\n",
       "      <td>52.0000</td>\n",
       "      <td>NaN</td>\n",
       "      <td>S</td>\n",
       "    </tr>\n",
       "    <tr>\n",
       "      <th>596</th>\n",
       "      <td>597</td>\n",
       "      <td>1</td>\n",
       "      <td>2</td>\n",
       "      <td>Leitch, Miss. Jessie Wills</td>\n",
       "      <td>female</td>\n",
       "      <td>NaN</td>\n",
       "      <td>0</td>\n",
       "      <td>0</td>\n",
       "      <td>248727</td>\n",
       "      <td>33.0000</td>\n",
       "      <td>NaN</td>\n",
       "      <td>S</td>\n",
       "    </tr>\n",
       "  </tbody>\n",
       "</table>\n",
       "</div>"
      ],
      "text/plain": [
       "     PassengerId  Survived  Pclass  \\\n",
       "133          134         1       2   \n",
       "502          503         0       3   \n",
       "813          814         0       3   \n",
       "383          384         1       1   \n",
       "596          597         1       2   \n",
       "\n",
       "                                                  Name     Sex   Age  SibSp  \\\n",
       "133      Weisz, Mrs. Leopold (Mathilde Francoise Pede)  female  29.0      1   \n",
       "502                     O'Sullivan, Miss. Bridget Mary  female   NaN      0   \n",
       "813                 Andersson, Miss. Ebba Iris Alfrida  female   6.0      4   \n",
       "383  Holverson, Mrs. Alexander Oskar (Mary Aline To...  female  35.0      1   \n",
       "596                         Leitch, Miss. Jessie Wills  female   NaN      0   \n",
       "\n",
       "     Parch  Ticket     Fare Cabin Embarked  \n",
       "133      0  228414  26.0000   NaN        S  \n",
       "502      0  330909   7.6292   NaN        Q  \n",
       "813      2  347082  31.2750   NaN        S  \n",
       "383      0  113789  52.0000   NaN        S  \n",
       "596      0  248727  33.0000   NaN        S  "
      ]
     },
     "execution_count": 4,
     "metadata": {},
     "output_type": "execute_result"
    }
   ],
   "source": [
    "test_data.head()"
   ]
  },
  {
   "cell_type": "code",
   "execution_count": 5,
   "metadata": {
    "collapsed": false,
    "jupyter": {
     "outputs_hidden": false
    }
   },
   "outputs": [
    {
     "name": "stdout",
     "output_type": "stream",
     "text": [
      "<class 'pandas.core.frame.DataFrame'>\n",
      "Int64Index: 596 entries, 741 to 347\n",
      "Data columns (total 12 columns):\n",
      "PassengerId    596 non-null int64\n",
      "Survived       596 non-null int64\n",
      "Pclass         596 non-null int64\n",
      "Name           596 non-null object\n",
      "Sex            596 non-null object\n",
      "Age            479 non-null float64\n",
      "SibSp          596 non-null int64\n",
      "Parch          596 non-null int64\n",
      "Ticket         596 non-null object\n",
      "Fare           596 non-null float64\n",
      "Cabin          124 non-null object\n",
      "Embarked       595 non-null object\n",
      "dtypes: float64(2), int64(5), object(5)\n",
      "memory usage: 60.5+ KB\n",
      "None\n",
      "\n",
      "=======================================\n",
      "\n",
      "<class 'pandas.core.frame.DataFrame'>\n",
      "Int64Index: 295 entries, 133 to 323\n",
      "Data columns (total 12 columns):\n",
      "PassengerId    295 non-null int64\n",
      "Survived       295 non-null int64\n",
      "Pclass         295 non-null int64\n",
      "Name           295 non-null object\n",
      "Sex            295 non-null object\n",
      "Age            235 non-null float64\n",
      "SibSp          295 non-null int64\n",
      "Parch          295 non-null int64\n",
      "Ticket         295 non-null object\n",
      "Fare           295 non-null float64\n",
      "Cabin          80 non-null object\n",
      "Embarked       294 non-null object\n",
      "dtypes: float64(2), int64(5), object(5)\n",
      "memory usage: 30.0+ KB\n",
      "None\n"
     ]
    }
   ],
   "source": [
    "print(training_data.info())\n",
    "print(\"\\n=======================================\\n\")\n",
    "print(test_data.info())"
   ]
  },
  {
   "cell_type": "markdown",
   "metadata": {},
   "source": [
    "The <b>Survived</b> column is our target/dependent/reponse variable, 1 means the passenger survived, 0 means that the passenger died. \n",
    "\n",
    "Several other variables describe the passengers:\n",
    "- PassengerId: and id given to each traveler on the boat.\n",
    "- Pclass: the passenger class. It has three possible values: 1,2,3.\n",
    "- Name\n",
    "- Sex\n",
    "- Age\n",
    "- SibSp: number of siblings and spouses traveling with the passenger\n",
    "- Parch: number of parents and children traveling with the passenger\n",
    "- The ticket number\n",
    "- The ticket fare\n",
    "- The cabin number\n",
    "- The port of embarkation. It has three possible values S,C,Q. (C = Cherbourg; Q = Queenstown; S = Southampton) \n",
    "\n",
    "Let us check which records in the training data are missing information for the Embarked field. "
   ]
  },
  {
   "cell_type": "code",
   "execution_count": 6,
   "metadata": {
    "collapsed": false,
    "jupyter": {
     "outputs_hidden": false
    }
   },
   "outputs": [
    {
     "data": {
      "text/html": [
       "<div>\n",
       "<style scoped>\n",
       "    .dataframe tbody tr th:only-of-type {\n",
       "        vertical-align: middle;\n",
       "    }\n",
       "\n",
       "    .dataframe tbody tr th {\n",
       "        vertical-align: top;\n",
       "    }\n",
       "\n",
       "    .dataframe thead th {\n",
       "        text-align: right;\n",
       "    }\n",
       "</style>\n",
       "<table border=\"1\" class=\"dataframe\">\n",
       "  <thead>\n",
       "    <tr style=\"text-align: right;\">\n",
       "      <th></th>\n",
       "      <th>PassengerId</th>\n",
       "      <th>Survived</th>\n",
       "      <th>Pclass</th>\n",
       "      <th>Name</th>\n",
       "      <th>Sex</th>\n",
       "      <th>Age</th>\n",
       "      <th>SibSp</th>\n",
       "      <th>Parch</th>\n",
       "      <th>Ticket</th>\n",
       "      <th>Fare</th>\n",
       "      <th>Cabin</th>\n",
       "      <th>Embarked</th>\n",
       "    </tr>\n",
       "  </thead>\n",
       "  <tbody>\n",
       "    <tr>\n",
       "      <th>829</th>\n",
       "      <td>830</td>\n",
       "      <td>1</td>\n",
       "      <td>1</td>\n",
       "      <td>Stone, Mrs. George Nelson (Martha Evelyn)</td>\n",
       "      <td>female</td>\n",
       "      <td>62.0</td>\n",
       "      <td>0</td>\n",
       "      <td>0</td>\n",
       "      <td>113572</td>\n",
       "      <td>80.0</td>\n",
       "      <td>B28</td>\n",
       "      <td>NaN</td>\n",
       "    </tr>\n",
       "  </tbody>\n",
       "</table>\n",
       "</div>"
      ],
      "text/plain": [
       "     PassengerId  Survived  Pclass                                       Name  \\\n",
       "829          830         1       1  Stone, Mrs. George Nelson (Martha Evelyn)   \n",
       "\n",
       "        Sex   Age  SibSp  Parch  Ticket  Fare Cabin Embarked  \n",
       "829  female  62.0      0      0  113572  80.0   B28      NaN  "
      ]
     },
     "execution_count": 6,
     "metadata": {},
     "output_type": "execute_result"
    }
   ],
   "source": [
    "# check the missing data for the Embarked field\n",
    "training_data[training_data.Embarked.isnull()]"
   ]
  },
  {
   "cell_type": "markdown",
   "metadata": {},
   "source": [
    "Let's look at the survival chances depending on the port of embarkation"
   ]
  },
  {
   "cell_type": "code",
   "execution_count": 7,
   "metadata": {
    "collapsed": false,
    "jupyter": {
     "outputs_hidden": false
    }
   },
   "outputs": [
    {
     "data": {
      "text/plain": [
       "<matplotlib.axes._subplots.AxesSubplot at 0xad0b7b8>"
      ]
     },
     "execution_count": 7,
     "metadata": {},
     "output_type": "execute_result"
    },
    {
     "data": {
      "image/png": "[encoded data removed]",
      "text/plain": [
       "<Figure size 1080x360 with 3 Axes>"
      ]
     },
     "metadata": {},
     "output_type": "display_data"
    }
   ],
   "source": [
    "# plot\n",
    "#sns.factorplot('Embarked','Survived', data=training_data,size=4,aspect=3)\n",
    "\n",
    "fig, (axis1,axis2,axis3) = plt.subplots(1,3,figsize=(15,5))\n",
    "\n",
    "sns.countplot(x='Embarked', data=training_data, ax=axis1)\n",
    "sns.countplot(x='Survived', hue=\"Embarked\", data=training_data, order=[1,0], ax=axis2)\n",
    "\n",
    "# group by embarked, and get the mean for survived passengers for each value in Embarked\n",
    "embark_perc = training_data[[\"Embarked\", \"Survived\"]].groupby(['Embarked'],as_index=False).mean()\n",
    "sns.barplot(x='Embarked', y='Survived', data=embark_perc,order=['S','C','Q'],ax=axis3)"
   ]
  },
  {
   "cell_type": "markdown",
   "metadata": {},
   "source": [
    "Lets look at other variables that may indicate where passengers embarked the ship."
   ]
  },
  {
   "cell_type": "code",
   "execution_count": 8,
   "metadata": {
    "collapsed": false,
    "jupyter": {
     "outputs_hidden": false
    }
   },
   "outputs": [
    {
     "data": {
      "text/html": [
       "<div>\n",
       "<style scoped>\n",
       "    .dataframe tbody tr th:only-of-type {\n",
       "        vertical-align: middle;\n",
       "    }\n",
       "\n",
       "    .dataframe tbody tr th {\n",
       "        vertical-align: top;\n",
       "    }\n",
       "\n",
       "    .dataframe thead th {\n",
       "        text-align: right;\n",
       "    }\n",
       "</style>\n",
       "<table border=\"1\" class=\"dataframe\">\n",
       "  <thead>\n",
       "    <tr style=\"text-align: right;\">\n",
       "      <th></th>\n",
       "      <th>PassengerId</th>\n",
       "      <th>Survived</th>\n",
       "      <th>Pclass</th>\n",
       "      <th>Name</th>\n",
       "      <th>Sex</th>\n",
       "      <th>Age</th>\n",
       "      <th>SibSp</th>\n",
       "      <th>Parch</th>\n",
       "      <th>Ticket</th>\n",
       "      <th>Fare</th>\n",
       "      <th>Cabin</th>\n",
       "      <th>Embarked</th>\n",
       "    </tr>\n",
       "  </thead>\n",
       "  <tbody>\n",
       "    <tr>\n",
       "      <th>829</th>\n",
       "      <td>830</td>\n",
       "      <td>1</td>\n",
       "      <td>1</td>\n",
       "      <td>Stone, Mrs. George Nelson (Martha Evelyn)</td>\n",
       "      <td>female</td>\n",
       "      <td>62.0</td>\n",
       "      <td>0</td>\n",
       "      <td>0</td>\n",
       "      <td>113572</td>\n",
       "      <td>80.0</td>\n",
       "      <td>B28</td>\n",
       "      <td>NaN</td>\n",
       "    </tr>\n",
       "  </tbody>\n",
       "</table>\n",
       "</div>"
      ],
      "text/plain": [
       "     PassengerId  Survived  Pclass                                       Name  \\\n",
       "829          830         1       1  Stone, Mrs. George Nelson (Martha Evelyn)   \n",
       "\n",
       "        Sex   Age  SibSp  Parch  Ticket  Fare Cabin Embarked  \n",
       "829  female  62.0      0      0  113572  80.0   B28      NaN  "
      ]
     },
     "execution_count": 8,
     "metadata": {},
     "output_type": "execute_result"
    }
   ],
   "source": [
    "training_data.loc[training_data.Ticket == '113572']\n"
   ]
  },
  {
   "cell_type": "code",
   "execution_count": 9,
   "metadata": {
    "collapsed": false,
    "jupyter": {
     "outputs_hidden": false
    }
   },
   "outputs": [
    {
     "name": "stdout",
     "output_type": "stream",
     "text": [
      "C == 11\n",
      "S == 10\n"
     ]
    }
   ],
   "source": [
    "print( 'C == ' + str( len(training_data.loc[training_data.Pclass == 1].loc[training_data.Fare > 75].loc[training_data.Fare < 85].loc[training_data.Embarked == 'C']) ) )\n",
    "print( 'S == ' + str( len(training_data.loc[training_data.Pclass == 1].loc[training_data.Fare > 75].loc[training_data.Fare < 85].loc[training_data.Embarked == 'S']) ) )"
   ]
  },
  {
   "cell_type": "code",
   "execution_count": 10,
   "metadata": {
    "collapsed": true,
    "jupyter": {
     "outputs_hidden": true
    }
   },
   "outputs": [],
   "source": [
    "training_data = training_data.set_value(training_data.Embarked.isnull(), 'Embarked', 'C')"
   ]
  },
  {
   "cell_type": "code",
   "execution_count": 11,
   "metadata": {
    "collapsed": false,
    "jupyter": {
     "outputs_hidden": false
    }
   },
   "outputs": [
    {
     "data": {
      "text/html": [
       "<div>\n",
       "<style scoped>\n",
       "    .dataframe tbody tr th:only-of-type {\n",
       "        vertical-align: middle;\n",
       "    }\n",
       "\n",
       "    .dataframe tbody tr th {\n",
       "        vertical-align: top;\n",
       "    }\n",
       "\n",
       "    .dataframe thead th {\n",
       "        text-align: right;\n",
       "    }\n",
       "</style>\n",
       "<table border=\"1\" class=\"dataframe\">\n",
       "  <thead>\n",
       "    <tr style=\"text-align: right;\">\n",
       "      <th></th>\n",
       "      <th>PassengerId</th>\n",
       "      <th>Survived</th>\n",
       "      <th>Pclass</th>\n",
       "      <th>Name</th>\n",
       "      <th>Sex</th>\n",
       "      <th>Age</th>\n",
       "      <th>SibSp</th>\n",
       "      <th>Parch</th>\n",
       "      <th>Ticket</th>\n",
       "      <th>Fare</th>\n",
       "      <th>Cabin</th>\n",
       "      <th>Embarked</th>\n",
       "    </tr>\n",
       "  </thead>\n",
       "  <tbody>\n",
       "  </tbody>\n",
       "</table>\n",
       "</div>"
      ],
      "text/plain": [
       "Empty DataFrame\n",
       "Columns: [PassengerId, Survived, Pclass, Name, Sex, Age, SibSp, Parch, Ticket, Fare, Cabin, Embarked]\n",
       "Index: []"
      ]
     },
     "execution_count": 11,
     "metadata": {},
     "output_type": "execute_result"
    }
   ],
   "source": [
    "training_data.loc[training_data.Embarked.isnull()]\n"
   ]
  },
  {
   "cell_type": "markdown",
   "metadata": {},
   "source": [
    "Let us check which records are missing information for the Fare and Cabin fields"
   ]
  },
  {
   "cell_type": "code",
   "execution_count": 12,
   "metadata": {
    "collapsed": false,
    "jupyter": {
     "outputs_hidden": false
    }
   },
   "outputs": [
    {
     "data": {
      "text/html": [
       "<div>\n",
       "<style scoped>\n",
       "    .dataframe tbody tr th:only-of-type {\n",
       "        vertical-align: middle;\n",
       "    }\n",
       "\n",
       "    .dataframe tbody tr th {\n",
       "        vertical-align: top;\n",
       "    }\n",
       "\n",
       "    .dataframe thead th {\n",
       "        text-align: right;\n",
       "    }\n",
       "</style>\n",
       "<table border=\"1\" class=\"dataframe\">\n",
       "  <thead>\n",
       "    <tr style=\"text-align: right;\">\n",
       "      <th></th>\n",
       "      <th>PassengerId</th>\n",
       "      <th>Survived</th>\n",
       "      <th>Pclass</th>\n",
       "      <th>Name</th>\n",
       "      <th>Sex</th>\n",
       "      <th>Age</th>\n",
       "      <th>SibSp</th>\n",
       "      <th>Parch</th>\n",
       "      <th>Ticket</th>\n",
       "      <th>Fare</th>\n",
       "      <th>Cabin</th>\n",
       "      <th>Embarked</th>\n",
       "    </tr>\n",
       "  </thead>\n",
       "  <tbody>\n",
       "  </tbody>\n",
       "</table>\n",
       "</div>"
      ],
      "text/plain": [
       "Empty DataFrame\n",
       "Columns: [PassengerId, Survived, Pclass, Name, Sex, Age, SibSp, Parch, Ticket, Fare, Cabin, Embarked]\n",
       "Index: []"
      ]
     },
     "execution_count": 12,
     "metadata": {},
     "output_type": "execute_result"
    }
   ],
   "source": [
    "test_data[test_data.Fare.isnull()]"
   ]
  },
  {
   "cell_type": "markdown",
   "metadata": {},
   "source": [
    "Let's visualize a histogram of the fares paid by the 3rd class passengers who embarked in Southampton."
   ]
  },
  {
   "cell_type": "code",
   "execution_count": 13,
   "metadata": {
    "collapsed": false,
    "jupyter": {
     "outputs_hidden": false
    }
   },
   "outputs": [
    {
     "data": {
      "text/plain": [
       "Text(0.5,1,'Histogram of Fare, Plcass 3 and Embarked S')"
      ]
     },
     "execution_count": 13,
     "metadata": {},
     "output_type": "execute_result"
    },
    {
     "data": {
      "image/png": "[encoded data removed]",
      "text/plain": [
       "<Figure size 576x360 with 1 Axes>"
      ]
     },
     "metadata": {},
     "output_type": "display_data"
    }
   ],
   "source": [
    "fig = plt.figure(figsize=(8, 5))\n",
    "ax = fig.add_subplot(111)\n",
    "\n",
    "test_data[(test_data.Pclass==3)&(test_data.Embarked=='S')].Fare.hist(bins=100, ax=ax)\n",
    "plt.xlabel('Fare')\n",
    "plt.ylabel('Frequency')\n",
    "\n",
    "plt.title('Histogram of Fare, Plcass 3 and Embarked S')"
   ]
  },
  {
   "cell_type": "code",
   "execution_count": 14,
   "metadata": {
    "collapsed": false,
    "jupyter": {
     "outputs_hidden": false
    }
   },
   "outputs": [
    {
     "name": "stdout",
     "output_type": "stream",
     "text": [
      "The top 5 most common fares\n"
     ]
    },
    {
     "data": {
      "text/plain": [
       "8.0500    18\n",
       "7.8958    12\n",
       "7.2500     6\n",
       "7.7750     5\n",
       "8.6625     5\n",
       "Name: Fare, dtype: int64"
      ]
     },
     "execution_count": 14,
     "metadata": {},
     "output_type": "execute_result"
    }
   ],
   "source": [
    "print (\"The top 5 most common fares\")\n",
    "test_data[(test_data.Pclass==3)&(test_data.Embarked=='S')].Fare.value_counts().head()"
   ]
  },
  {
   "cell_type": "markdown",
   "metadata": {},
   "source": [
    "Let us fill in the missing values with the most common fare, $8.05"
   ]
  },
  {
   "cell_type": "code",
   "execution_count": 15,
   "metadata": {
    "collapsed": false,
    "jupyter": {
     "outputs_hidden": false
    }
   },
   "outputs": [
    {
     "data": {
      "text/html": [
       "<div>\n",
       "<style scoped>\n",
       "    .dataframe tbody tr th:only-of-type {\n",
       "        vertical-align: middle;\n",
       "    }\n",
       "\n",
       "    .dataframe tbody tr th {\n",
       "        vertical-align: top;\n",
       "    }\n",
       "\n",
       "    .dataframe thead th {\n",
       "        text-align: right;\n",
       "    }\n",
       "</style>\n",
       "<table border=\"1\" class=\"dataframe\">\n",
       "  <thead>\n",
       "    <tr style=\"text-align: right;\">\n",
       "      <th></th>\n",
       "      <th>PassengerId</th>\n",
       "      <th>Survived</th>\n",
       "      <th>Pclass</th>\n",
       "      <th>Name</th>\n",
       "      <th>Sex</th>\n",
       "      <th>Age</th>\n",
       "      <th>SibSp</th>\n",
       "      <th>Parch</th>\n",
       "      <th>Ticket</th>\n",
       "      <th>Fare</th>\n",
       "      <th>Cabin</th>\n",
       "      <th>Embarked</th>\n",
       "    </tr>\n",
       "  </thead>\n",
       "  <tbody>\n",
       "  </tbody>\n",
       "</table>\n",
       "</div>"
      ],
      "text/plain": [
       "Empty DataFrame\n",
       "Columns: [PassengerId, Survived, Pclass, Name, Sex, Age, SibSp, Parch, Ticket, Fare, Cabin, Embarked]\n",
       "Index: []"
      ]
     },
     "execution_count": 15,
     "metadata": {},
     "output_type": "execute_result"
    }
   ],
   "source": [
    "test_data.set_value(test_data.Fare.isnull(), 'Fare', 8.05)\n",
    "test_data.loc[test_data.Fare.isnull()]"
   ]
  },
  {
   "cell_type": "markdown",
   "metadata": {},
   "source": [
    "Let's look at the field of <b>Age</b> in the training dataset, and see how it correlates with survival."
   ]
  },
  {
   "cell_type": "code",
   "execution_count": 16,
   "metadata": {
    "collapsed": false,
    "jupyter": {
     "outputs_hidden": false
    }
   },
   "outputs": [
    {
     "data": {
      "text/html": [
       "<div>\n",
       "<style scoped>\n",
       "    .dataframe tbody tr th:only-of-type {\n",
       "        vertical-align: middle;\n",
       "    }\n",
       "\n",
       "    .dataframe tbody tr th {\n",
       "        vertical-align: top;\n",
       "    }\n",
       "\n",
       "    .dataframe thead th {\n",
       "        text-align: right;\n",
       "    }\n",
       "</style>\n",
       "<table border=\"1\" class=\"dataframe\">\n",
       "  <thead>\n",
       "    <tr style=\"text-align: right;\">\n",
       "      <th></th>\n",
       "      <th>PassengerId</th>\n",
       "      <th>Survived</th>\n",
       "      <th>Pclass</th>\n",
       "      <th>Name</th>\n",
       "      <th>Sex</th>\n",
       "      <th>Age</th>\n",
       "      <th>SibSp</th>\n",
       "      <th>Parch</th>\n",
       "      <th>Ticket</th>\n",
       "      <th>Fare</th>\n",
       "      <th>Cabin</th>\n",
       "      <th>Embarked</th>\n",
       "    </tr>\n",
       "  </thead>\n",
       "  <tbody>\n",
       "    <tr>\n",
       "      <th>502</th>\n",
       "      <td>503</td>\n",
       "      <td>0</td>\n",
       "      <td>3</td>\n",
       "      <td>O'Sullivan, Miss. Bridget Mary</td>\n",
       "      <td>female</td>\n",
       "      <td>NaN</td>\n",
       "      <td>0</td>\n",
       "      <td>0</td>\n",
       "      <td>330909</td>\n",
       "      <td>7.6292</td>\n",
       "      <td>NaN</td>\n",
       "      <td>Q</td>\n",
       "    </tr>\n",
       "    <tr>\n",
       "      <th>596</th>\n",
       "      <td>597</td>\n",
       "      <td>1</td>\n",
       "      <td>2</td>\n",
       "      <td>Leitch, Miss. Jessie Wills</td>\n",
       "      <td>female</td>\n",
       "      <td>NaN</td>\n",
       "      <td>0</td>\n",
       "      <td>0</td>\n",
       "      <td>248727</td>\n",
       "      <td>33.0000</td>\n",
       "      <td>NaN</td>\n",
       "      <td>S</td>\n",
       "    </tr>\n",
       "    <tr>\n",
       "      <th>324</th>\n",
       "      <td>325</td>\n",
       "      <td>0</td>\n",
       "      <td>3</td>\n",
       "      <td>Sage, Mr. George John Jr</td>\n",
       "      <td>male</td>\n",
       "      <td>NaN</td>\n",
       "      <td>8</td>\n",
       "      <td>2</td>\n",
       "      <td>CA. 2343</td>\n",
       "      <td>69.5500</td>\n",
       "      <td>NaN</td>\n",
       "      <td>S</td>\n",
       "    </tr>\n",
       "    <tr>\n",
       "      <th>335</th>\n",
       "      <td>336</td>\n",
       "      <td>0</td>\n",
       "      <td>3</td>\n",
       "      <td>Denkoff, Mr. Mitto</td>\n",
       "      <td>male</td>\n",
       "      <td>NaN</td>\n",
       "      <td>0</td>\n",
       "      <td>0</td>\n",
       "      <td>349225</td>\n",
       "      <td>7.8958</td>\n",
       "      <td>NaN</td>\n",
       "      <td>S</td>\n",
       "    </tr>\n",
       "    <tr>\n",
       "      <th>36</th>\n",
       "      <td>37</td>\n",
       "      <td>1</td>\n",
       "      <td>3</td>\n",
       "      <td>Mamee, Mr. Hanna</td>\n",
       "      <td>male</td>\n",
       "      <td>NaN</td>\n",
       "      <td>0</td>\n",
       "      <td>0</td>\n",
       "      <td>2677</td>\n",
       "      <td>7.2292</td>\n",
       "      <td>NaN</td>\n",
       "      <td>C</td>\n",
       "    </tr>\n",
       "  </tbody>\n",
       "</table>\n",
       "</div>"
      ],
      "text/plain": [
       "     PassengerId  Survived  Pclass                            Name     Sex  \\\n",
       "502          503         0       3  O'Sullivan, Miss. Bridget Mary  female   \n",
       "596          597         1       2      Leitch, Miss. Jessie Wills  female   \n",
       "324          325         0       3        Sage, Mr. George John Jr    male   \n",
       "335          336         0       3              Denkoff, Mr. Mitto    male   \n",
       "36            37         1       3                Mamee, Mr. Hanna    male   \n",
       "\n",
       "     Age  SibSp  Parch    Ticket     Fare Cabin Embarked  \n",
       "502  NaN      0      0    330909   7.6292   NaN        Q  \n",
       "596  NaN      0      0    248727  33.0000   NaN        S  \n",
       "324  NaN      8      2  CA. 2343  69.5500   NaN        S  \n",
       "335  NaN      0      0    349225   7.8958   NaN        S  \n",
       "36   NaN      0      0      2677   7.2292   NaN        C  "
      ]
     },
     "execution_count": 16,
     "metadata": {},
     "output_type": "execute_result"
    }
   ],
   "source": [
    "test_data.loc[test_data.Age.isnull()].head()"
   ]
  },
  {
   "cell_type": "code",
   "execution_count": 17,
   "metadata": {
    "collapsed": false,
    "jupyter": {
     "outputs_hidden": false
    }
   },
   "outputs": [
    {
     "data": {
      "text/plain": [
       "<matplotlib.axes._subplots.AxesSubplot at 0xaf01dd8>"
      ]
     },
     "execution_count": 17,
     "metadata": {},
     "output_type": "execute_result"
    },
    {
     "data": {
      "image/png": "[encoded data removed]",
      "text/plain": [
       "<Figure size 1080x288 with 2 Axes>"
      ]
     },
     "metadata": {},
     "output_type": "display_data"
    }
   ],
   "source": [
    "fig, (axis1,axis2) = plt.subplots(1,2,figsize=(15,4))\n",
    "axis1.set_title('Original Age values')\n",
    "axis2.set_title('New Age values')\n",
    "\n",
    "average_age_training   = training_data[\"Age\"].mean()\n",
    "std_age_training       = training_data[\"Age\"].std()\n",
    "count_nan_age_training = training_data[\"Age\"].isnull().sum()\n",
    "\n",
    "average_age_test   = test_data[\"Age\"].mean()\n",
    "std_age_test       = test_data[\"Age\"].std()\n",
    "count_nan_age_test = test_data[\"Age\"].isnull().sum()\n",
    "\n",
    "rand_1 = np.random.randint(average_age_training - std_age_training,\\\n",
    "                           average_age_training + std_age_training,\\\n",
    "                           size = count_nan_age_training)\n",
    "rand_2 = np.random.randint(average_age_test - std_age_test,\\\n",
    "                           average_age_test + std_age_test,\\\n",
    "                           size = count_nan_age_test)\n",
    "\n",
    "training_data['Age'].dropna().astype(int).hist(bins=70, ax=axis1)\n",
    "test_data['Age'].dropna().astype(int).hist(bins=70, ax=axis1)\n",
    "\n",
    "training_data.loc[np.isnan(training_data[\"Age\"]), \"Age\"] = rand_1\n",
    "test_data.loc[np.isnan(test_data[\"Age\"]), \"Age\"] = rand_2\n",
    "\n",
    "training_data['Age'] = training_data['Age'].astype(int)\n",
    "test_data['Age']    = test_data['Age'].astype(int)    \n",
    "\n",
    "training_data['Age'].hist(bins=70, ax=axis2)\n",
    "test_data['Age'].hist(bins=70, ax=axis2)"
   ]
  },
  {
   "cell_type": "code",
   "execution_count": 18,
   "metadata": {
    "collapsed": false,
    "jupyter": {
     "outputs_hidden": false
    }
   },
   "outputs": [
    {
     "data": {
      "text/plain": [
       "<matplotlib.axes._subplots.AxesSubplot at 0xb3c8390>"
      ]
     },
     "execution_count": 18,
     "metadata": {},
     "output_type": "execute_result"
    },
    {
     "data": {
      "image/png": "[encoded data removed]",
      "text/plain": [
       "<Figure size 911x216 with 1 Axes>"
      ]
     },
     "metadata": {},
     "output_type": "display_data"
    },
    {
     "data": {
      "image/png": "[encoded data removed]",
      "text/plain": [
       "<Figure size 1296x288 with 1 Axes>"
      ]
     },
     "metadata": {},
     "output_type": "display_data"
    }
   ],
   "source": [
    "facet = sns.FacetGrid(training_data, hue=\"Survived\",aspect=4)\n",
    "facet.map(sns.kdeplot,'Age',shade= True)\n",
    "facet.set(xlim=(0, training_data['Age'].max()))\n",
    "facet.add_legend()\n",
    "\n",
    "fig, axis1 = plt.subplots(1,1,figsize=(18,4))\n",
    "\n",
    "average_age = training_data[[\"Age\", \"Survived\"]].groupby(['Age'],as_index=False).mean()\n",
    "\n",
    "sns.barplot(x='Age', y='Survived', data=average_age)"
   ]
  },
  {
   "cell_type": "code",
   "execution_count": 19,
   "metadata": {
    "collapsed": false,
    "jupyter": {
     "outputs_hidden": false
    }
   },
   "outputs": [
    {
     "name": "stdout",
     "output_type": "stream",
     "text": [
      "<class 'pandas.core.frame.DataFrame'>\n",
      "Int64Index: 596 entries, 741 to 347\n",
      "Data columns (total 12 columns):\n",
      "PassengerId    596 non-null int64\n",
      "Survived       596 non-null int64\n",
      "Pclass         596 non-null int64\n",
      "Name           596 non-null object\n",
      "Sex            596 non-null object\n",
      "Age            596 non-null int32\n",
      "SibSp          596 non-null int64\n",
      "Parch          596 non-null int64\n",
      "Ticket         596 non-null object\n",
      "Fare           596 non-null float64\n",
      "Cabin          124 non-null object\n",
      "Embarked       596 non-null object\n",
      "dtypes: float64(1), int32(1), int64(5), object(5)\n",
      "memory usage: 78.2+ KB\n",
      "None\n",
      "\n",
      "=====================================\n",
      "\n",
      "<class 'pandas.core.frame.DataFrame'>\n",
      "Int64Index: 295 entries, 133 to 323\n",
      "Data columns (total 12 columns):\n",
      "PassengerId    295 non-null int64\n",
      "Survived       295 non-null int64\n",
      "Pclass         295 non-null int64\n",
      "Name           295 non-null object\n",
      "Sex            295 non-null object\n",
      "Age            295 non-null int32\n",
      "SibSp          295 non-null int64\n",
      "Parch          295 non-null int64\n",
      "Ticket         295 non-null object\n",
      "Fare           295 non-null float64\n",
      "Cabin          80 non-null object\n",
      "Embarked       294 non-null object\n",
      "dtypes: float64(1), int32(1), int64(5), object(5)\n",
      "memory usage: 28.8+ KB\n",
      "None\n"
     ]
    }
   ],
   "source": [
    "print(training_data.info())\n",
    "print(\"\\n=====================================\\n\")\n",
    "print(test_data.info())"
   ]
  },
  {
   "cell_type": "markdown",
   "metadata": {},
   "source": [
    "The names have a prefix that, in some cases, is indicative of the social status, which may have been be an important factor in surviving the accident.\n",
    "Braund, Mr. Owen Harris\n",
    "Heikkinen, Miss. Laina\n",
    "Oliva y Ocana, Dona. Fermina\n",
    "Peter, Master. Michael J\n",
    "\n",
    "Extracting the passenger titles and storring them in an additional column called <b>Title</b>."
   ]
  },
  {
   "cell_type": "code",
   "execution_count": 20,
   "metadata": {
    "collapsed": false,
    "jupyter": {
     "outputs_hidden": false
    }
   },
   "outputs": [
    {
     "data": {
      "text/html": [
       "<div>\n",
       "<style scoped>\n",
       "    .dataframe tbody tr th:only-of-type {\n",
       "        vertical-align: middle;\n",
       "    }\n",
       "\n",
       "    .dataframe tbody tr th {\n",
       "        vertical-align: top;\n",
       "    }\n",
       "\n",
       "    .dataframe thead th {\n",
       "        text-align: right;\n",
       "    }\n",
       "</style>\n",
       "<table border=\"1\" class=\"dataframe\">\n",
       "  <thead>\n",
       "    <tr style=\"text-align: right;\">\n",
       "      <th></th>\n",
       "      <th>PassengerId</th>\n",
       "      <th>Survived</th>\n",
       "      <th>Pclass</th>\n",
       "      <th>Name</th>\n",
       "      <th>Sex</th>\n",
       "      <th>Age</th>\n",
       "      <th>SibSp</th>\n",
       "      <th>Parch</th>\n",
       "      <th>Ticket</th>\n",
       "      <th>Fare</th>\n",
       "      <th>Cabin</th>\n",
       "      <th>Embarked</th>\n",
       "      <th>Title</th>\n",
       "    </tr>\n",
       "  </thead>\n",
       "  <tbody>\n",
       "    <tr>\n",
       "      <th>741</th>\n",
       "      <td>742</td>\n",
       "      <td>0</td>\n",
       "      <td>1</td>\n",
       "      <td>Cavendish, Mr. Tyrell William</td>\n",
       "      <td>male</td>\n",
       "      <td>36</td>\n",
       "      <td>1</td>\n",
       "      <td>0</td>\n",
       "      <td>19877</td>\n",
       "      <td>78.8500</td>\n",
       "      <td>C46</td>\n",
       "      <td>S</td>\n",
       "      <td>Mr</td>\n",
       "    </tr>\n",
       "    <tr>\n",
       "      <th>850</th>\n",
       "      <td>851</td>\n",
       "      <td>0</td>\n",
       "      <td>3</td>\n",
       "      <td>Andersson, Master. Sigvard Harald Elias</td>\n",
       "      <td>male</td>\n",
       "      <td>4</td>\n",
       "      <td>4</td>\n",
       "      <td>2</td>\n",
       "      <td>347082</td>\n",
       "      <td>31.2750</td>\n",
       "      <td>NaN</td>\n",
       "      <td>S</td>\n",
       "      <td>Master</td>\n",
       "    </tr>\n",
       "    <tr>\n",
       "      <th>666</th>\n",
       "      <td>667</td>\n",
       "      <td>0</td>\n",
       "      <td>2</td>\n",
       "      <td>Butler, Mr. Reginald Fenton</td>\n",
       "      <td>male</td>\n",
       "      <td>25</td>\n",
       "      <td>0</td>\n",
       "      <td>0</td>\n",
       "      <td>234686</td>\n",
       "      <td>13.0000</td>\n",
       "      <td>NaN</td>\n",
       "      <td>S</td>\n",
       "      <td>Mr</td>\n",
       "    </tr>\n",
       "    <tr>\n",
       "      <th>446</th>\n",
       "      <td>447</td>\n",
       "      <td>1</td>\n",
       "      <td>2</td>\n",
       "      <td>Mellinger, Miss. Madeleine Violet</td>\n",
       "      <td>female</td>\n",
       "      <td>13</td>\n",
       "      <td>0</td>\n",
       "      <td>1</td>\n",
       "      <td>250644</td>\n",
       "      <td>19.5000</td>\n",
       "      <td>NaN</td>\n",
       "      <td>S</td>\n",
       "      <td>Miss</td>\n",
       "    </tr>\n",
       "    <tr>\n",
       "      <th>232</th>\n",
       "      <td>233</td>\n",
       "      <td>0</td>\n",
       "      <td>2</td>\n",
       "      <td>Sjostedt, Mr. Ernst Adolf</td>\n",
       "      <td>male</td>\n",
       "      <td>59</td>\n",
       "      <td>0</td>\n",
       "      <td>0</td>\n",
       "      <td>237442</td>\n",
       "      <td>13.5000</td>\n",
       "      <td>NaN</td>\n",
       "      <td>S</td>\n",
       "      <td>Mr</td>\n",
       "    </tr>\n",
       "    <tr>\n",
       "      <th>78</th>\n",
       "      <td>79</td>\n",
       "      <td>1</td>\n",
       "      <td>2</td>\n",
       "      <td>Caldwell, Master. Alden Gates</td>\n",
       "      <td>male</td>\n",
       "      <td>0</td>\n",
       "      <td>0</td>\n",
       "      <td>2</td>\n",
       "      <td>248738</td>\n",
       "      <td>29.0000</td>\n",
       "      <td>NaN</td>\n",
       "      <td>S</td>\n",
       "      <td>Master</td>\n",
       "    </tr>\n",
       "    <tr>\n",
       "      <th>648</th>\n",
       "      <td>649</td>\n",
       "      <td>0</td>\n",
       "      <td>3</td>\n",
       "      <td>Willey, Mr. Edward</td>\n",
       "      <td>male</td>\n",
       "      <td>16</td>\n",
       "      <td>0</td>\n",
       "      <td>0</td>\n",
       "      <td>S.O./P.P. 751</td>\n",
       "      <td>7.5500</td>\n",
       "      <td>NaN</td>\n",
       "      <td>S</td>\n",
       "      <td>Mr</td>\n",
       "    </tr>\n",
       "    <tr>\n",
       "      <th>723</th>\n",
       "      <td>724</td>\n",
       "      <td>0</td>\n",
       "      <td>2</td>\n",
       "      <td>Hodges, Mr. Henry Price</td>\n",
       "      <td>male</td>\n",
       "      <td>50</td>\n",
       "      <td>0</td>\n",
       "      <td>0</td>\n",
       "      <td>250643</td>\n",
       "      <td>13.0000</td>\n",
       "      <td>NaN</td>\n",
       "      <td>S</td>\n",
       "      <td>Mr</td>\n",
       "    </tr>\n",
       "    <tr>\n",
       "      <th>291</th>\n",
       "      <td>292</td>\n",
       "      <td>1</td>\n",
       "      <td>1</td>\n",
       "      <td>Bishop, Mrs. Dickinson H (Helen Walton)</td>\n",
       "      <td>female</td>\n",
       "      <td>19</td>\n",
       "      <td>1</td>\n",
       "      <td>0</td>\n",
       "      <td>11967</td>\n",
       "      <td>91.0792</td>\n",
       "      <td>B49</td>\n",
       "      <td>C</td>\n",
       "      <td>Mrs</td>\n",
       "    </tr>\n",
       "    <tr>\n",
       "      <th>652</th>\n",
       "      <td>653</td>\n",
       "      <td>0</td>\n",
       "      <td>3</td>\n",
       "      <td>Kalvik, Mr. Johannes Halvorsen</td>\n",
       "      <td>male</td>\n",
       "      <td>21</td>\n",
       "      <td>0</td>\n",
       "      <td>0</td>\n",
       "      <td>8475</td>\n",
       "      <td>8.4333</td>\n",
       "      <td>NaN</td>\n",
       "      <td>S</td>\n",
       "      <td>Mr</td>\n",
       "    </tr>\n",
       "  </tbody>\n",
       "</table>\n",
       "</div>"
      ],
      "text/plain": [
       "     PassengerId  Survived  Pclass                                     Name  \\\n",
       "741          742         0       1            Cavendish, Mr. Tyrell William   \n",
       "850          851         0       3  Andersson, Master. Sigvard Harald Elias   \n",
       "666          667         0       2              Butler, Mr. Reginald Fenton   \n",
       "446          447         1       2        Mellinger, Miss. Madeleine Violet   \n",
       "232          233         0       2                Sjostedt, Mr. Ernst Adolf   \n",
       "78            79         1       2            Caldwell, Master. Alden Gates   \n",
       "648          649         0       3                       Willey, Mr. Edward   \n",
       "723          724         0       2                  Hodges, Mr. Henry Price   \n",
       "291          292         1       1  Bishop, Mrs. Dickinson H (Helen Walton)   \n",
       "652          653         0       3           Kalvik, Mr. Johannes Halvorsen   \n",
       "\n",
       "        Sex  Age  SibSp  Parch         Ticket     Fare Cabin Embarked   Title  \n",
       "741    male   36      1      0          19877  78.8500   C46        S      Mr  \n",
       "850    male    4      4      2         347082  31.2750   NaN        S  Master  \n",
       "666    male   25      0      0         234686  13.0000   NaN        S      Mr  \n",
       "446  female   13      0      1         250644  19.5000   NaN        S    Miss  \n",
       "232    male   59      0      0         237442  13.5000   NaN        S      Mr  \n",
       "78     male    0      0      2         248738  29.0000   NaN        S  Master  \n",
       "648    male   16      0      0  S.O./P.P. 751   7.5500   NaN        S      Mr  \n",
       "723    male   50      0      0         250643  13.0000   NaN        S      Mr  \n",
       "291  female   19      1      0          11967  91.0792   B49        C     Mrs  \n",
       "652    male   21      0      0           8475   8.4333   NaN        S      Mr  "
      ]
     },
     "execution_count": 20,
     "metadata": {},
     "output_type": "execute_result"
    }
   ],
   "source": [
    "Title_Dictionary = {\n",
    "                    \"Capt\":       \"Officer\",\n",
    "                    \"Col\":        \"Officer\",\n",
    "                    \"Major\":      \"Officer\",\n",
    "                    \"Jonkheer\":   \"Nobel\",\n",
    "                    \"Don\":        \"Nobel\",\n",
    "                    \"Sir\" :       \"Nobel\",\n",
    "                    \"Dr\":         \"Officer\",\n",
    "                    \"Rev\":        \"Officer\",\n",
    "                    \"the Countess\":\"Nobel\",\n",
    "                    \"Dona\":       \"Nobel\",\n",
    "                    \"Mme\":        \"Mrs\",\n",
    "                    \"Mlle\":       \"Miss\",\n",
    "                    \"Ms\":         \"Mrs\",\n",
    "                    \"Mr\" :        \"Mr\",\n",
    "                    \"Mrs\" :       \"Mrs\",\n",
    "                    \"Miss\" :      \"Miss\",\n",
    "                    \"Master\" :    \"Master\",\n",
    "                    \"Lady\" :      \"Nobel\"\n",
    "                    } \n",
    "\n",
    "training_data['Title'] = training_data['Name'].apply(lambda x: Title_Dictionary[x.split(',')[1].split('.')[0].strip()])\n",
    "test_data['Title'] = test_data['Name'].apply(lambda x: Title_Dictionary[x.split(',')[1].split('.')[0].strip()])\n",
    "\n",
    "training_data.head(10)"
   ]
  },
  {
   "cell_type": "markdown",
   "metadata": {},
   "source": [
    "Add a field FamilySize that aggregates the information in the fields indicating the presence of a partner (Parch) or a relative (SibSp)."
   ]
  },
  {
   "cell_type": "code",
   "execution_count": 21,
   "metadata": {
    "collapsed": false,
    "jupyter": {
     "outputs_hidden": false
    }
   },
   "outputs": [
    {
     "data": {
      "text/html": [
       "<div>\n",
       "<style scoped>\n",
       "    .dataframe tbody tr th:only-of-type {\n",
       "        vertical-align: middle;\n",
       "    }\n",
       "\n",
       "    .dataframe tbody tr th {\n",
       "        vertical-align: top;\n",
       "    }\n",
       "\n",
       "    .dataframe thead th {\n",
       "        text-align: right;\n",
       "    }\n",
       "</style>\n",
       "<table border=\"1\" class=\"dataframe\">\n",
       "  <thead>\n",
       "    <tr style=\"text-align: right;\">\n",
       "      <th></th>\n",
       "      <th>PassengerId</th>\n",
       "      <th>Survived</th>\n",
       "      <th>Pclass</th>\n",
       "      <th>Name</th>\n",
       "      <th>Sex</th>\n",
       "      <th>Age</th>\n",
       "      <th>SibSp</th>\n",
       "      <th>Parch</th>\n",
       "      <th>Ticket</th>\n",
       "      <th>Fare</th>\n",
       "      <th>Cabin</th>\n",
       "      <th>Embarked</th>\n",
       "      <th>Title</th>\n",
       "      <th>FamilySize</th>\n",
       "    </tr>\n",
       "  </thead>\n",
       "  <tbody>\n",
       "    <tr>\n",
       "      <th>741</th>\n",
       "      <td>742</td>\n",
       "      <td>0</td>\n",
       "      <td>1</td>\n",
       "      <td>Cavendish, Mr. Tyrell William</td>\n",
       "      <td>male</td>\n",
       "      <td>36</td>\n",
       "      <td>1</td>\n",
       "      <td>0</td>\n",
       "      <td>19877</td>\n",
       "      <td>78.850</td>\n",
       "      <td>C46</td>\n",
       "      <td>S</td>\n",
       "      <td>Mr</td>\n",
       "      <td>1</td>\n",
       "    </tr>\n",
       "    <tr>\n",
       "      <th>850</th>\n",
       "      <td>851</td>\n",
       "      <td>0</td>\n",
       "      <td>3</td>\n",
       "      <td>Andersson, Master. Sigvard Harald Elias</td>\n",
       "      <td>male</td>\n",
       "      <td>4</td>\n",
       "      <td>4</td>\n",
       "      <td>2</td>\n",
       "      <td>347082</td>\n",
       "      <td>31.275</td>\n",
       "      <td>NaN</td>\n",
       "      <td>S</td>\n",
       "      <td>Master</td>\n",
       "      <td>6</td>\n",
       "    </tr>\n",
       "    <tr>\n",
       "      <th>666</th>\n",
       "      <td>667</td>\n",
       "      <td>0</td>\n",
       "      <td>2</td>\n",
       "      <td>Butler, Mr. Reginald Fenton</td>\n",
       "      <td>male</td>\n",
       "      <td>25</td>\n",
       "      <td>0</td>\n",
       "      <td>0</td>\n",
       "      <td>234686</td>\n",
       "      <td>13.000</td>\n",
       "      <td>NaN</td>\n",
       "      <td>S</td>\n",
       "      <td>Mr</td>\n",
       "      <td>0</td>\n",
       "    </tr>\n",
       "    <tr>\n",
       "      <th>446</th>\n",
       "      <td>447</td>\n",
       "      <td>1</td>\n",
       "      <td>2</td>\n",
       "      <td>Mellinger, Miss. Madeleine Violet</td>\n",
       "      <td>female</td>\n",
       "      <td>13</td>\n",
       "      <td>0</td>\n",
       "      <td>1</td>\n",
       "      <td>250644</td>\n",
       "      <td>19.500</td>\n",
       "      <td>NaN</td>\n",
       "      <td>S</td>\n",
       "      <td>Miss</td>\n",
       "      <td>1</td>\n",
       "    </tr>\n",
       "    <tr>\n",
       "      <th>232</th>\n",
       "      <td>233</td>\n",
       "      <td>0</td>\n",
       "      <td>2</td>\n",
       "      <td>Sjostedt, Mr. Ernst Adolf</td>\n",
       "      <td>male</td>\n",
       "      <td>59</td>\n",
       "      <td>0</td>\n",
       "      <td>0</td>\n",
       "      <td>237442</td>\n",
       "      <td>13.500</td>\n",
       "      <td>NaN</td>\n",
       "      <td>S</td>\n",
       "      <td>Mr</td>\n",
       "      <td>0</td>\n",
       "    </tr>\n",
       "  </tbody>\n",
       "</table>\n",
       "</div>"
      ],
      "text/plain": [
       "     PassengerId  Survived  Pclass                                     Name  \\\n",
       "741          742         0       1            Cavendish, Mr. Tyrell William   \n",
       "850          851         0       3  Andersson, Master. Sigvard Harald Elias   \n",
       "666          667         0       2              Butler, Mr. Reginald Fenton   \n",
       "446          447         1       2        Mellinger, Miss. Madeleine Violet   \n",
       "232          233         0       2                Sjostedt, Mr. Ernst Adolf   \n",
       "\n",
       "        Sex  Age  SibSp  Parch  Ticket    Fare Cabin Embarked   Title  \\\n",
       "741    male   36      1      0   19877  78.850   C46        S      Mr   \n",
       "850    male    4      4      2  347082  31.275   NaN        S  Master   \n",
       "666    male   25      0      0  234686  13.000   NaN        S      Mr   \n",
       "446  female   13      0      1  250644  19.500   NaN        S    Miss   \n",
       "232    male   59      0      0  237442  13.500   NaN        S      Mr   \n",
       "\n",
       "     FamilySize  \n",
       "741           1  \n",
       "850           6  \n",
       "666           0  \n",
       "446           1  \n",
       "232           0  "
      ]
     },
     "execution_count": 21,
     "metadata": {},
     "output_type": "execute_result"
    }
   ],
   "source": [
    "training_data['FamilySize'] = training_data['SibSp'] + training_data['Parch']\n",
    "test_data['FamilySize'] = test_data['SibSp'] + test_data['Parch']\n",
    "\n",
    "training_data.head()"
   ]
  },
  {
   "cell_type": "markdown",
   "metadata": {},
   "source": [
    "The gender of pasanger is an important factor in surviving the accident. So is a pasenger's age.  Let us introduce a new feature to take into account the gender and age of passengers."
   ]
  },
  {
   "cell_type": "code",
   "execution_count": 22,
   "metadata": {
    "collapsed": false,
    "jupyter": {
     "outputs_hidden": false
    }
   },
   "outputs": [
    {
     "data": {
      "text/html": [
       "<div>\n",
       "<style scoped>\n",
       "    .dataframe tbody tr th:only-of-type {\n",
       "        vertical-align: middle;\n",
       "    }\n",
       "\n",
       "    .dataframe tbody tr th {\n",
       "        vertical-align: top;\n",
       "    }\n",
       "\n",
       "    .dataframe thead th {\n",
       "        text-align: right;\n",
       "    }\n",
       "</style>\n",
       "<table border=\"1\" class=\"dataframe\">\n",
       "  <thead>\n",
       "    <tr style=\"text-align: right;\">\n",
       "      <th></th>\n",
       "      <th>PassengerId</th>\n",
       "      <th>Survived</th>\n",
       "      <th>Pclass</th>\n",
       "      <th>Name</th>\n",
       "      <th>Sex</th>\n",
       "      <th>Age</th>\n",
       "      <th>SibSp</th>\n",
       "      <th>Parch</th>\n",
       "      <th>Ticket</th>\n",
       "      <th>Fare</th>\n",
       "      <th>Cabin</th>\n",
       "      <th>Embarked</th>\n",
       "      <th>Title</th>\n",
       "      <th>FamilySize</th>\n",
       "      <th>Person</th>\n",
       "    </tr>\n",
       "  </thead>\n",
       "  <tbody>\n",
       "    <tr>\n",
       "      <th>741</th>\n",
       "      <td>742</td>\n",
       "      <td>0</td>\n",
       "      <td>1</td>\n",
       "      <td>Cavendish, Mr. Tyrell William</td>\n",
       "      <td>male</td>\n",
       "      <td>36</td>\n",
       "      <td>1</td>\n",
       "      <td>0</td>\n",
       "      <td>19877</td>\n",
       "      <td>78.850</td>\n",
       "      <td>C46</td>\n",
       "      <td>S</td>\n",
       "      <td>Mr</td>\n",
       "      <td>1</td>\n",
       "      <td>male</td>\n",
       "    </tr>\n",
       "    <tr>\n",
       "      <th>850</th>\n",
       "      <td>851</td>\n",
       "      <td>0</td>\n",
       "      <td>3</td>\n",
       "      <td>Andersson, Master. Sigvard Harald Elias</td>\n",
       "      <td>male</td>\n",
       "      <td>4</td>\n",
       "      <td>4</td>\n",
       "      <td>2</td>\n",
       "      <td>347082</td>\n",
       "      <td>31.275</td>\n",
       "      <td>NaN</td>\n",
       "      <td>S</td>\n",
       "      <td>Master</td>\n",
       "      <td>6</td>\n",
       "      <td>child</td>\n",
       "    </tr>\n",
       "    <tr>\n",
       "      <th>666</th>\n",
       "      <td>667</td>\n",
       "      <td>0</td>\n",
       "      <td>2</td>\n",
       "      <td>Butler, Mr. Reginald Fenton</td>\n",
       "      <td>male</td>\n",
       "      <td>25</td>\n",
       "      <td>0</td>\n",
       "      <td>0</td>\n",
       "      <td>234686</td>\n",
       "      <td>13.000</td>\n",
       "      <td>NaN</td>\n",
       "      <td>S</td>\n",
       "      <td>Mr</td>\n",
       "      <td>0</td>\n",
       "      <td>male</td>\n",
       "    </tr>\n",
       "    <tr>\n",
       "      <th>446</th>\n",
       "      <td>447</td>\n",
       "      <td>1</td>\n",
       "      <td>2</td>\n",
       "      <td>Mellinger, Miss. Madeleine Violet</td>\n",
       "      <td>female</td>\n",
       "      <td>13</td>\n",
       "      <td>0</td>\n",
       "      <td>1</td>\n",
       "      <td>250644</td>\n",
       "      <td>19.500</td>\n",
       "      <td>NaN</td>\n",
       "      <td>S</td>\n",
       "      <td>Miss</td>\n",
       "      <td>1</td>\n",
       "      <td>child</td>\n",
       "    </tr>\n",
       "    <tr>\n",
       "      <th>232</th>\n",
       "      <td>233</td>\n",
       "      <td>0</td>\n",
       "      <td>2</td>\n",
       "      <td>Sjostedt, Mr. Ernst Adolf</td>\n",
       "      <td>male</td>\n",
       "      <td>59</td>\n",
       "      <td>0</td>\n",
       "      <td>0</td>\n",
       "      <td>237442</td>\n",
       "      <td>13.500</td>\n",
       "      <td>NaN</td>\n",
       "      <td>S</td>\n",
       "      <td>Mr</td>\n",
       "      <td>0</td>\n",
       "      <td>male</td>\n",
       "    </tr>\n",
       "  </tbody>\n",
       "</table>\n",
       "</div>"
      ],
      "text/plain": [
       "     PassengerId  Survived  Pclass                                     Name  \\\n",
       "741          742         0       1            Cavendish, Mr. Tyrell William   \n",
       "850          851         0       3  Andersson, Master. Sigvard Harald Elias   \n",
       "666          667         0       2              Butler, Mr. Reginald Fenton   \n",
       "446          447         1       2        Mellinger, Miss. Madeleine Violet   \n",
       "232          233         0       2                Sjostedt, Mr. Ernst Adolf   \n",
       "\n",
       "        Sex  Age  SibSp  Parch  Ticket    Fare Cabin Embarked   Title  \\\n",
       "741    male   36      1      0   19877  78.850   C46        S      Mr   \n",
       "850    male    4      4      2  347082  31.275   NaN        S  Master   \n",
       "666    male   25      0      0  234686  13.000   NaN        S      Mr   \n",
       "446  female   13      0      1  250644  19.500   NaN        S    Miss   \n",
       "232    male   59      0      0  237442  13.500   NaN        S      Mr   \n",
       "\n",
       "     FamilySize Person  \n",
       "741           1   male  \n",
       "850           6  child  \n",
       "666           0   male  \n",
       "446           1  child  \n",
       "232           0   male  "
      ]
     },
     "execution_count": 22,
     "metadata": {},
     "output_type": "execute_result"
    }
   ],
   "source": [
    "def get_person(passenger):\n",
    "    age,sex = passenger\n",
    "    return 'child' if age < 16 else sex\n",
    "    \n",
    "training_data['Person'] = training_data[['Age','Sex']].apply(get_person,axis=1)\n",
    "test_data['Person']    = test_data[['Age','Sex']].apply(get_person,axis=1)\n",
    "\n",
    "training_data.head()"
   ]
  },
  {
   "cell_type": "code",
   "execution_count": 23,
   "metadata": {
    "collapsed": false,
    "jupyter": {
     "outputs_hidden": false
    }
   },
   "outputs": [
    {
     "name": "stdout",
     "output_type": "stream",
     "text": [
      "<class 'pandas.core.frame.DataFrame'>\n",
      "Int64Index: 596 entries, 741 to 347\n",
      "Data columns (total 15 columns):\n",
      "PassengerId    596 non-null int64\n",
      "Survived       596 non-null int64\n",
      "Pclass         596 non-null int64\n",
      "Name           596 non-null object\n",
      "Sex            596 non-null object\n",
      "Age            596 non-null int32\n",
      "SibSp          596 non-null int64\n",
      "Parch          596 non-null int64\n",
      "Ticket         596 non-null object\n",
      "Fare           596 non-null float64\n",
      "Cabin          124 non-null object\n",
      "Embarked       596 non-null object\n",
      "Title          596 non-null object\n",
      "FamilySize     596 non-null int64\n",
      "Person         596 non-null object\n",
      "dtypes: float64(1), int32(1), int64(6), object(7)\n",
      "memory usage: 92.2+ KB\n",
      "\n",
      "------------------------------------\n",
      "\n",
      "<class 'pandas.core.frame.DataFrame'>\n",
      "Int64Index: 295 entries, 133 to 323\n",
      "Data columns (total 15 columns):\n",
      "PassengerId    295 non-null int64\n",
      "Survived       295 non-null int64\n",
      "Pclass         295 non-null int64\n",
      "Name           295 non-null object\n",
      "Sex            295 non-null object\n",
      "Age            295 non-null int32\n",
      "SibSp          295 non-null int64\n",
      "Parch          295 non-null int64\n",
      "Ticket         295 non-null object\n",
      "Fare           295 non-null float64\n",
      "Cabin          80 non-null object\n",
      "Embarked       294 non-null object\n",
      "Title          295 non-null object\n",
      "FamilySize     295 non-null int64\n",
      "Person         295 non-null object\n",
      "dtypes: float64(1), int32(1), int64(6), object(7)\n",
      "memory usage: 35.7+ KB\n"
     ]
    }
   ],
   "source": [
    "training_data.info()\n",
    "print(\"\\n------------------------------------\\n\")\n",
    "test_data.info()"
   ]
  },
  {
   "cell_type": "markdown",
   "metadata": {},
   "source": [
    "Let us select just the features of interest. We are dropping features like Name, SibSp and Sex, whose information is either no longer needed or is accounted for in the columns that we have added."
   ]
  },
  {
   "cell_type": "code",
   "execution_count": 24,
   "metadata": {
    "collapsed": true,
    "jupyter": {
     "outputs_hidden": true
    }
   },
   "outputs": [],
   "source": [
    "training_data.drop(labels=['PassengerId', 'Name', 'Cabin', 'Ticket', 'SibSp', 'Parch', 'Sex'], axis=1, inplace=True)\n",
    "test_data.drop(labels=['Name', 'Cabin', 'Ticket', 'SibSp', 'Parch', 'Sex'], axis=1, inplace=True)"
   ]
  },
  {
   "cell_type": "code",
   "execution_count": 25,
   "metadata": {
    "collapsed": false,
    "jupyter": {
     "outputs_hidden": false
    }
   },
   "outputs": [
    {
     "data": {
      "text/html": [
       "<div>\n",
       "<style scoped>\n",
       "    .dataframe tbody tr th:only-of-type {\n",
       "        vertical-align: middle;\n",
       "    }\n",
       "\n",
       "    .dataframe tbody tr th {\n",
       "        vertical-align: top;\n",
       "    }\n",
       "\n",
       "    .dataframe thead th {\n",
       "        text-align: right;\n",
       "    }\n",
       "</style>\n",
       "<table border=\"1\" class=\"dataframe\">\n",
       "  <thead>\n",
       "    <tr style=\"text-align: right;\">\n",
       "      <th></th>\n",
       "      <th>Survived</th>\n",
       "      <th>Pclass</th>\n",
       "      <th>Age</th>\n",
       "      <th>Fare</th>\n",
       "      <th>Embarked</th>\n",
       "      <th>Title</th>\n",
       "      <th>FamilySize</th>\n",
       "      <th>Person</th>\n",
       "    </tr>\n",
       "  </thead>\n",
       "  <tbody>\n",
       "    <tr>\n",
       "      <th>741</th>\n",
       "      <td>0</td>\n",
       "      <td>1</td>\n",
       "      <td>36</td>\n",
       "      <td>78.850</td>\n",
       "      <td>S</td>\n",
       "      <td>Mr</td>\n",
       "      <td>1</td>\n",
       "      <td>male</td>\n",
       "    </tr>\n",
       "    <tr>\n",
       "      <th>850</th>\n",
       "      <td>0</td>\n",
       "      <td>3</td>\n",
       "      <td>4</td>\n",
       "      <td>31.275</td>\n",
       "      <td>S</td>\n",
       "      <td>Master</td>\n",
       "      <td>6</td>\n",
       "      <td>child</td>\n",
       "    </tr>\n",
       "    <tr>\n",
       "      <th>666</th>\n",
       "      <td>0</td>\n",
       "      <td>2</td>\n",
       "      <td>25</td>\n",
       "      <td>13.000</td>\n",
       "      <td>S</td>\n",
       "      <td>Mr</td>\n",
       "      <td>0</td>\n",
       "      <td>male</td>\n",
       "    </tr>\n",
       "    <tr>\n",
       "      <th>446</th>\n",
       "      <td>1</td>\n",
       "      <td>2</td>\n",
       "      <td>13</td>\n",
       "      <td>19.500</td>\n",
       "      <td>S</td>\n",
       "      <td>Miss</td>\n",
       "      <td>1</td>\n",
       "      <td>child</td>\n",
       "    </tr>\n",
       "    <tr>\n",
       "      <th>232</th>\n",
       "      <td>0</td>\n",
       "      <td>2</td>\n",
       "      <td>59</td>\n",
       "      <td>13.500</td>\n",
       "      <td>S</td>\n",
       "      <td>Mr</td>\n",
       "      <td>0</td>\n",
       "      <td>male</td>\n",
       "    </tr>\n",
       "  </tbody>\n",
       "</table>\n",
       "</div>"
      ],
      "text/plain": [
       "     Survived  Pclass  Age    Fare Embarked   Title  FamilySize Person\n",
       "741         0       1   36  78.850        S      Mr           1   male\n",
       "850         0       3    4  31.275        S  Master           6  child\n",
       "666         0       2   25  13.000        S      Mr           0   male\n",
       "446         1       2   13  19.500        S    Miss           1  child\n",
       "232         0       2   59  13.500        S      Mr           0   male"
      ]
     },
     "execution_count": 25,
     "metadata": {},
     "output_type": "execute_result"
    }
   ],
   "source": [
    "training_data.head()"
   ]
  },
  {
   "cell_type": "markdown",
   "metadata": {},
   "source": [
    "We use the information available on passengers to build a statistical model for survivorship, which, given a \"new\" passenger will predict whether or not he survived. There is a wide variety of models to use, from logistic regression to decision trees and more sophisticated ones such as random forests.\n",
    "\n",
    "\n",
    "First, let us use Pandas' get_dummies function to encode some of the features with discrete values, i.e., Person, Embarked, Title and Pclass and add those dummy variables as columns to the DataFrame object that stores the training data."
   ]
  },
  {
   "cell_type": "code",
   "execution_count": 26,
   "metadata": {
    "collapsed": false,
    "jupyter": {
     "outputs_hidden": false
    }
   },
   "outputs": [
    {
     "data": {
      "text/html": [
       "<div>\n",
       "<style scoped>\n",
       "    .dataframe tbody tr th:only-of-type {\n",
       "        vertical-align: middle;\n",
       "    }\n",
       "\n",
       "    .dataframe tbody tr th {\n",
       "        vertical-align: top;\n",
       "    }\n",
       "\n",
       "    .dataframe thead th {\n",
       "        text-align: right;\n",
       "    }\n",
       "</style>\n",
       "<table border=\"1\" class=\"dataframe\">\n",
       "  <thead>\n",
       "    <tr style=\"text-align: right;\">\n",
       "      <th></th>\n",
       "      <th>Survived</th>\n",
       "      <th>Age</th>\n",
       "      <th>Fare</th>\n",
       "      <th>FamilySize</th>\n",
       "      <th>Person_child</th>\n",
       "      <th>Person_female</th>\n",
       "      <th>Person_male</th>\n",
       "      <th>Embarked_C</th>\n",
       "      <th>Embarked_Q</th>\n",
       "      <th>Embarked_S</th>\n",
       "      <th>Title_Master</th>\n",
       "      <th>Title_Miss</th>\n",
       "      <th>Title_Mr</th>\n",
       "      <th>Title_Mrs</th>\n",
       "      <th>Title_Nobel</th>\n",
       "      <th>Title_Officer</th>\n",
       "      <th>Pclass_1</th>\n",
       "      <th>Pclass_2</th>\n",
       "      <th>Pclass_3</th>\n",
       "    </tr>\n",
       "  </thead>\n",
       "  <tbody>\n",
       "    <tr>\n",
       "      <th>741</th>\n",
       "      <td>0</td>\n",
       "      <td>36</td>\n",
       "      <td>78.850</td>\n",
       "      <td>1</td>\n",
       "      <td>0</td>\n",
       "      <td>0</td>\n",
       "      <td>1</td>\n",
       "      <td>0</td>\n",
       "      <td>0</td>\n",
       "      <td>1</td>\n",
       "      <td>0</td>\n",
       "      <td>0</td>\n",
       "      <td>1</td>\n",
       "      <td>0</td>\n",
       "      <td>0</td>\n",
       "      <td>0</td>\n",
       "      <td>1</td>\n",
       "      <td>0</td>\n",
       "      <td>0</td>\n",
       "    </tr>\n",
       "    <tr>\n",
       "      <th>850</th>\n",
       "      <td>0</td>\n",
       "      <td>4</td>\n",
       "      <td>31.275</td>\n",
       "      <td>6</td>\n",
       "      <td>1</td>\n",
       "      <td>0</td>\n",
       "      <td>0</td>\n",
       "      <td>0</td>\n",
       "      <td>0</td>\n",
       "      <td>1</td>\n",
       "      <td>1</td>\n",
       "      <td>0</td>\n",
       "      <td>0</td>\n",
       "      <td>0</td>\n",
       "      <td>0</td>\n",
       "      <td>0</td>\n",
       "      <td>0</td>\n",
       "      <td>0</td>\n",
       "      <td>1</td>\n",
       "    </tr>\n",
       "    <tr>\n",
       "      <th>666</th>\n",
       "      <td>0</td>\n",
       "      <td>25</td>\n",
       "      <td>13.000</td>\n",
       "      <td>0</td>\n",
       "      <td>0</td>\n",
       "      <td>0</td>\n",
       "      <td>1</td>\n",
       "      <td>0</td>\n",
       "      <td>0</td>\n",
       "      <td>1</td>\n",
       "      <td>0</td>\n",
       "      <td>0</td>\n",
       "      <td>1</td>\n",
       "      <td>0</td>\n",
       "      <td>0</td>\n",
       "      <td>0</td>\n",
       "      <td>0</td>\n",
       "      <td>1</td>\n",
       "      <td>0</td>\n",
       "    </tr>\n",
       "    <tr>\n",
       "      <th>446</th>\n",
       "      <td>1</td>\n",
       "      <td>13</td>\n",
       "      <td>19.500</td>\n",
       "      <td>1</td>\n",
       "      <td>1</td>\n",
       "      <td>0</td>\n",
       "      <td>0</td>\n",
       "      <td>0</td>\n",
       "      <td>0</td>\n",
       "      <td>1</td>\n",
       "      <td>0</td>\n",
       "      <td>1</td>\n",
       "      <td>0</td>\n",
       "      <td>0</td>\n",
       "      <td>0</td>\n",
       "      <td>0</td>\n",
       "      <td>0</td>\n",
       "      <td>1</td>\n",
       "      <td>0</td>\n",
       "    </tr>\n",
       "    <tr>\n",
       "      <th>232</th>\n",
       "      <td>0</td>\n",
       "      <td>59</td>\n",
       "      <td>13.500</td>\n",
       "      <td>0</td>\n",
       "      <td>0</td>\n",
       "      <td>0</td>\n",
       "      <td>1</td>\n",
       "      <td>0</td>\n",
       "      <td>0</td>\n",
       "      <td>1</td>\n",
       "      <td>0</td>\n",
       "      <td>0</td>\n",
       "      <td>1</td>\n",
       "      <td>0</td>\n",
       "      <td>0</td>\n",
       "      <td>0</td>\n",
       "      <td>0</td>\n",
       "      <td>1</td>\n",
       "      <td>0</td>\n",
       "    </tr>\n",
       "  </tbody>\n",
       "</table>\n",
       "</div>"
      ],
      "text/plain": [
       "     Survived  Age    Fare  FamilySize  Person_child  Person_female  \\\n",
       "741         0   36  78.850           1             0              0   \n",
       "850         0    4  31.275           6             1              0   \n",
       "666         0   25  13.000           0             0              0   \n",
       "446         1   13  19.500           1             1              0   \n",
       "232         0   59  13.500           0             0              0   \n",
       "\n",
       "     Person_male  Embarked_C  Embarked_Q  Embarked_S  Title_Master  \\\n",
       "741            1           0           0           1             0   \n",
       "850            0           0           0           1             1   \n",
       "666            1           0           0           1             0   \n",
       "446            0           0           0           1             0   \n",
       "232            1           0           0           1             0   \n",
       "\n",
       "     Title_Miss  Title_Mr  Title_Mrs  Title_Nobel  Title_Officer  Pclass_1  \\\n",
       "741           0         1          0            0              0         1   \n",
       "850           0         0          0            0              0         0   \n",
       "666           0         1          0            0              0         0   \n",
       "446           1         0          0            0              0         0   \n",
       "232           0         1          0            0              0         0   \n",
       "\n",
       "     Pclass_2  Pclass_3  \n",
       "741         0         0  \n",
       "850         0         1  \n",
       "666         1         0  \n",
       "446         1         0  \n",
       "232         1         0  "
      ]
     },
     "execution_count": 26,
     "metadata": {},
     "output_type": "execute_result"
    }
   ],
   "source": [
    "dummies_person_train = pd.get_dummies(training_data['Person'],prefix='Person')\n",
    "dummies_embarked_train = pd.get_dummies(training_data['Embarked'], prefix= 'Embarked') \n",
    "dummies_title_train = pd.get_dummies(training_data['Title'], prefix= 'Title')\n",
    "dummies_pclass_train = pd.get_dummies(training_data['Pclass'], prefix= 'Pclass')\n",
    "\n",
    "training_data = pd.concat([training_data, dummies_person_train, dummies_embarked_train, dummies_title_train, dummies_pclass_train], axis=1)\n",
    "training_data = training_data.drop(['Person','Embarked','Title', 'Pclass'], axis=1)\n",
    "\n",
    "training_data.head()"
   ]
  },
  {
   "cell_type": "code",
   "execution_count": 27,
   "metadata": {
    "collapsed": false,
    "jupyter": {
     "outputs_hidden": false
    }
   },
   "outputs": [
    {
     "data": {
      "text/html": [
       "<div>\n",
       "<style scoped>\n",
       "    .dataframe tbody tr th:only-of-type {\n",
       "        vertical-align: middle;\n",
       "    }\n",
       "\n",
       "    .dataframe tbody tr th {\n",
       "        vertical-align: top;\n",
       "    }\n",
       "\n",
       "    .dataframe thead th {\n",
       "        text-align: right;\n",
       "    }\n",
       "</style>\n",
       "<table border=\"1\" class=\"dataframe\">\n",
       "  <thead>\n",
       "    <tr style=\"text-align: right;\">\n",
       "      <th></th>\n",
       "      <th>PassengerId</th>\n",
       "      <th>Survived</th>\n",
       "      <th>Age</th>\n",
       "      <th>Fare</th>\n",
       "      <th>FamilySize</th>\n",
       "      <th>Person_child</th>\n",
       "      <th>Person_female</th>\n",
       "      <th>Person_male</th>\n",
       "      <th>Embarked_C</th>\n",
       "      <th>Embarked_Q</th>\n",
       "      <th>Embarked_S</th>\n",
       "      <th>Title_Master</th>\n",
       "      <th>Title_Miss</th>\n",
       "      <th>Title_Mr</th>\n",
       "      <th>Title_Mrs</th>\n",
       "      <th>Title_Nobel</th>\n",
       "      <th>Title_Officer</th>\n",
       "      <th>Pclass_1</th>\n",
       "      <th>Pclass_2</th>\n",
       "      <th>Pclass_3</th>\n",
       "    </tr>\n",
       "  </thead>\n",
       "  <tbody>\n",
       "    <tr>\n",
       "      <th>133</th>\n",
       "      <td>134</td>\n",
       "      <td>1</td>\n",
       "      <td>29</td>\n",
       "      <td>26.0000</td>\n",
       "      <td>1</td>\n",
       "      <td>0</td>\n",
       "      <td>1</td>\n",
       "      <td>0</td>\n",
       "      <td>0</td>\n",
       "      <td>0</td>\n",
       "      <td>1</td>\n",
       "      <td>0</td>\n",
       "      <td>0</td>\n",
       "      <td>0</td>\n",
       "      <td>1</td>\n",
       "      <td>0</td>\n",
       "      <td>0</td>\n",
       "      <td>0</td>\n",
       "      <td>1</td>\n",
       "      <td>0</td>\n",
       "    </tr>\n",
       "    <tr>\n",
       "      <th>502</th>\n",
       "      <td>503</td>\n",
       "      <td>0</td>\n",
       "      <td>18</td>\n",
       "      <td>7.6292</td>\n",
       "      <td>0</td>\n",
       "      <td>0</td>\n",
       "      <td>1</td>\n",
       "      <td>0</td>\n",
       "      <td>0</td>\n",
       "      <td>1</td>\n",
       "      <td>0</td>\n",
       "      <td>0</td>\n",
       "      <td>1</td>\n",
       "      <td>0</td>\n",
       "      <td>0</td>\n",
       "      <td>0</td>\n",
       "      <td>0</td>\n",
       "      <td>0</td>\n",
       "      <td>0</td>\n",
       "      <td>1</td>\n",
       "    </tr>\n",
       "    <tr>\n",
       "      <th>813</th>\n",
       "      <td>814</td>\n",
       "      <td>0</td>\n",
       "      <td>6</td>\n",
       "      <td>31.2750</td>\n",
       "      <td>6</td>\n",
       "      <td>1</td>\n",
       "      <td>0</td>\n",
       "      <td>0</td>\n",
       "      <td>0</td>\n",
       "      <td>0</td>\n",
       "      <td>1</td>\n",
       "      <td>0</td>\n",
       "      <td>1</td>\n",
       "      <td>0</td>\n",
       "      <td>0</td>\n",
       "      <td>0</td>\n",
       "      <td>0</td>\n",
       "      <td>0</td>\n",
       "      <td>0</td>\n",
       "      <td>1</td>\n",
       "    </tr>\n",
       "    <tr>\n",
       "      <th>383</th>\n",
       "      <td>384</td>\n",
       "      <td>1</td>\n",
       "      <td>35</td>\n",
       "      <td>52.0000</td>\n",
       "      <td>1</td>\n",
       "      <td>0</td>\n",
       "      <td>1</td>\n",
       "      <td>0</td>\n",
       "      <td>0</td>\n",
       "      <td>0</td>\n",
       "      <td>1</td>\n",
       "      <td>0</td>\n",
       "      <td>0</td>\n",
       "      <td>0</td>\n",
       "      <td>1</td>\n",
       "      <td>0</td>\n",
       "      <td>0</td>\n",
       "      <td>1</td>\n",
       "      <td>0</td>\n",
       "      <td>0</td>\n",
       "    </tr>\n",
       "    <tr>\n",
       "      <th>596</th>\n",
       "      <td>597</td>\n",
       "      <td>1</td>\n",
       "      <td>20</td>\n",
       "      <td>33.0000</td>\n",
       "      <td>0</td>\n",
       "      <td>0</td>\n",
       "      <td>1</td>\n",
       "      <td>0</td>\n",
       "      <td>0</td>\n",
       "      <td>0</td>\n",
       "      <td>1</td>\n",
       "      <td>0</td>\n",
       "      <td>1</td>\n",
       "      <td>0</td>\n",
       "      <td>0</td>\n",
       "      <td>0</td>\n",
       "      <td>0</td>\n",
       "      <td>0</td>\n",
       "      <td>1</td>\n",
       "      <td>0</td>\n",
       "    </tr>\n",
       "  </tbody>\n",
       "</table>\n",
       "</div>"
      ],
      "text/plain": [
       "     PassengerId  Survived  Age     Fare  FamilySize  Person_child  \\\n",
       "133          134         1   29  26.0000           1             0   \n",
       "502          503         0   18   7.6292           0             0   \n",
       "813          814         0    6  31.2750           6             1   \n",
       "383          384         1   35  52.0000           1             0   \n",
       "596          597         1   20  33.0000           0             0   \n",
       "\n",
       "     Person_female  Person_male  Embarked_C  Embarked_Q  Embarked_S  \\\n",
       "133              1            0           0           0           1   \n",
       "502              1            0           0           1           0   \n",
       "813              0            0           0           0           1   \n",
       "383              1            0           0           0           1   \n",
       "596              1            0           0           0           1   \n",
       "\n",
       "     Title_Master  Title_Miss  Title_Mr  Title_Mrs  Title_Nobel  \\\n",
       "133             0           0         0          1            0   \n",
       "502             0           1         0          0            0   \n",
       "813             0           1         0          0            0   \n",
       "383             0           0         0          1            0   \n",
       "596             0           1         0          0            0   \n",
       "\n",
       "     Title_Officer  Pclass_1  Pclass_2  Pclass_3  \n",
       "133              0         0         1         0  \n",
       "502              0         0         0         1  \n",
       "813              0         0         0         1  \n",
       "383              0         1         0         0  \n",
       "596              0         0         1         0  "
      ]
     },
     "execution_count": 27,
     "metadata": {},
     "output_type": "execute_result"
    }
   ],
   "source": [
    "dummies_person_test   = pd.get_dummies(test_data['Person'],prefix='Person')\n",
    "dummies_embarked_test = pd.get_dummies(test_data['Embarked'], prefix= 'Embarked') \n",
    "dummies_title_test    = pd.get_dummies(test_data['Title'], prefix= 'Title')\n",
    "dummies_pclass_test   = pd.get_dummies(test_data['Pclass'], prefix= 'Pclass')\n",
    "\n",
    "test_data = pd.concat([test_data, dummies_person_test, dummies_embarked_test, dummies_title_test, dummies_pclass_test], axis=1)\n",
    "test_data = test_data.drop(['Person','Embarked','Title', 'Pclass'], axis=1)\n",
    "\n",
    "test_data.head()"
   ]
  },
  {
   "cell_type": "markdown",
   "metadata": {},
   "source": [
    "Let us create a function that visualizes the accuracy of the models we are building. It plots as a continuous line the mean values of the scores of the chosen estimator for two data sets, and a coloured band around the mean line, i.e., the interval (mean - standard deviation, mean + standard deviation).\n",
    "\n",
    "plot_learning_curve() uses in turn the function sklearn.learning_curve.learning_curve(), which determines cross-validated training and test scores for different training set sizes. An (optional) cross-validation generator splits the given dataset k times in training and test data. (The default is 3-fold cross validation.) Subsets of the training set with varying sizes will be used to train the estimator and a score for each training subset size and the test set will be computed. The scores are averaged over all k runs for each training subset size."
   ]
  },
  {
   "cell_type": "code",
   "execution_count": 28,
   "metadata": {
    "collapsed": true,
    "jupyter": {
     "outputs_hidden": true
    }
   },
   "outputs": [],
   "source": [
    "def plot_learning_curve(estimator, title, X, y, ylim=None, cv=None, n_jobs=1,\\\n",
    "                        train_sizes=np.linspace(.02, 1.0, 5), scoring='accuracy'):\n",
    "    \n",
    "    plt.figure(figsize=(10,6))\n",
    "    plt.title(title)\n",
    "    \n",
    "    if ylim is not None:\n",
    "        plt.ylim(*ylim)\n",
    "        \n",
    "    plt.xlabel(\"Training examples\")\n",
    "    plt.ylabel(scoring)\n",
    "    \n",
    "    train_sizes, train_scores, test_scores = learning_curve(estimator, X, y, cv=cv, scoring=scoring, n_jobs=n_jobs, train_sizes=train_sizes)\n",
    "#http://scikit-learn.org/stable/modules/generated/sklearn.model_selection.learning_curve.html   \n",
    "#http://scikit-learn.org/stable/modules/cross_validation.html#cross-validation\n",
    "#Note that you do not need to understand everything in these references to answer the assignment questions\n",
    "    train_scores_mean = np.mean(train_scores, axis=1)\n",
    "    train_scores_std = np.std(train_scores, axis=1)\n",
    "    test_scores_mean = np.mean(test_scores, axis=1)\n",
    "    test_scores_std = np.std(test_scores, axis=1)\n",
    "    \n",
    "    plt.grid()\n",
    "\n",
    "    plt.fill_between(train_sizes, train_scores_mean - train_scores_std,\\\n",
    "                     train_scores_mean + train_scores_std, alpha=0.1, \\\n",
    "                     color=\"r\")\n",
    "    plt.fill_between(train_sizes, test_scores_mean - test_scores_std,\\\n",
    "                     test_scores_mean + test_scores_std, alpha=0.1, color=\"g\")\n",
    "    \n",
    "    plt.plot(train_sizes, train_scores_mean, 'o-', color=\"r\",label=\"Training score\")\n",
    "    plt.plot(train_sizes, test_scores_mean, 'o-', color=\"g\", label=\"Cross-validation score\")\n",
    "    plt.legend(loc=\"best\")\n",
    "    \n",
    "    return plt"
   ]
  },
  {
   "cell_type": "code",
   "execution_count": 29,
   "metadata": {
    "collapsed": true,
    "jupyter": {
     "outputs_hidden": true
    },
    "scrolled": true
   },
   "outputs": [],
   "source": [
    "# import machine learning modules\n",
    "from sklearn.linear_model import LogisticRegression\n",
    "from sklearn.metrics import make_scorer, accuracy_score\n",
    "from sklearn.ensemble import RandomForestClassifier\n",
    "from sklearn.utils import shuffle\n",
    "try:\n",
    "    from sklearn.model_selection import train_test_split\n",
    "except:\n",
    "    from sklearn.cross_validation import train_test_split\n",
    "try:\n",
    "    from sklearn.model_selection import GridSearchCV\n",
    "except:\n",
    "    from sklearn.grid_search import GridSearchCV\n",
    "try:\n",
    "    from sklearn.model_selection import learning_curve\n",
    "except:\n",
    "    from sklearn.learning_curve import learning_curve"
   ]
  },
  {
   "cell_type": "markdown",
   "metadata": {},
   "source": [
    "Let us build a model for the Titanic data. First, let us split the training data set into training and validation datasets, with the validation dataset being 30% of the data.  We are using sklearn.model_selection.train_test_split() which splits arrays or matrices into random train and validation, \"test\", subsets."
   ]
  },
  {
   "cell_type": "code",
   "execution_count": 30,
   "metadata": {
    "collapsed": true,
    "jupyter": {
     "outputs_hidden": true
    }
   },
   "outputs": [],
   "source": [
    "X = training_data.drop(['Survived'], axis=1)\n",
    "y = training_data.Survived\n",
    "X_train, X_test, y_train, y_test = train_test_split(X, y, random_state=42, test_size = 0.3)"
   ]
  },
  {
   "cell_type": "markdown",
   "metadata": {},
   "source": [
    "We will use GridSearchCV, which exhaustively considers all parameter combinations, to find the best model for the data. A search consists of:\n",
    "- an estimator (regressor or classifier such as RandomForestClassifier(), or LogisticRegression());\n",
    "- a parameter space;\n",
    "- a method for searching or sampling candidates;\n",
    "- a cross-validation scheme; \n",
    "- a score function, such as accurracy_score()\n"
   ]
  },
  {
   "cell_type": "markdown",
   "metadata": {},
   "source": [
    "Let us turn our attention to cross-validation. We are using the sklearn.model_selection.KFold(), a K-folds cross-validator which provides training and validation/testing indices to split data into training and validation (or testing) sets. KFold() splits a dataset into k consecutive folds with each fold used once as a validation while the k - 1 remaining folds form the training set."
   ]
  },
  {
   "cell_type": "markdown",
   "metadata": {},
   "source": [
    "Let's perform the above procedure for the logistic regression. Find the \"best\" Logistic Regression classifier: "
   ]
  },
  {
   "cell_type": "code",
   "execution_count": 31,
   "metadata": {
    "collapsed": false,
    "jupyter": {
     "outputs_hidden": false
    }
   },
   "outputs": [
    {
     "name": "stdout",
     "output_type": "stream",
     "text": [
      "    mean_fit_time  std_fit_time  mean_score_time  std_score_time param_C  \\\n",
      "0        0.004667      0.000943         0.000667    4.714266e-04     0.1   \n",
      "1        0.005334      0.001700         0.000333    4.713704e-04     0.2   \n",
      "2        0.004333      0.000943         0.000667    4.714827e-04     0.3   \n",
      "3        0.003667      0.000943         0.000667    4.714828e-04     0.4   \n",
      "4        0.002667      0.000471         0.000333    4.713704e-04     0.5   \n",
      "5        0.001000      0.001414         0.000000    0.000000e+00     0.6   \n",
      "6        0.005200      0.007354         0.000000    0.000000e+00     0.7   \n",
      "7        0.000000      0.000000         0.000000    0.000000e+00     0.8   \n",
      "8        0.005200      0.007354         0.000000    0.000000e+00     0.9   \n",
      "9        0.005867      0.008297         0.000000    0.000000e+00       1   \n",
      "10       0.003000      0.000000         0.000333    4.714827e-04     1.1   \n",
      "11       0.000000      0.000000         0.000000    0.000000e+00     1.2   \n",
      "12       0.005200      0.007354         0.000000    0.000000e+00     1.3   \n",
      "13       0.000000      0.000000         0.005200    7.353895e-03     1.4   \n",
      "14       0.000000      0.000000         0.000000    0.000000e+00     1.5   \n",
      "15       0.005200      0.007354         0.000000    0.000000e+00     1.6   \n",
      "16       0.006867      0.007074         0.000333    4.713704e-04     1.7   \n",
      "17       0.003000      0.000000         0.001000    1.946680e-07     1.8   \n",
      "18       0.003334      0.000471         0.000667    4.713704e-04     1.9   \n",
      "19       0.000000      0.000000         0.000000    0.000000e+00       2   \n",
      "\n",
      "        params  split0_test_score  split1_test_score  split2_test_score  \\\n",
      "0   {'C': 0.1}           0.726619           0.784173           0.848921   \n",
      "1   {'C': 0.2}           0.712230           0.805755           0.834532   \n",
      "2   {'C': 0.3}           0.712230           0.798561           0.848921   \n",
      "3   {'C': 0.4}           0.712230           0.798561           0.848921   \n",
      "4   {'C': 0.5}           0.733813           0.798561           0.848921   \n",
      "5   {'C': 0.6}           0.741007           0.805755           0.848921   \n",
      "6   {'C': 0.7}           0.755396           0.812950           0.856115   \n",
      "7   {'C': 0.8}           0.769784           0.812950           0.856115   \n",
      "8   {'C': 0.9}           0.769784           0.812950           0.856115   \n",
      "9     {'C': 1}           0.769784           0.820144           0.856115   \n",
      "10  {'C': 1.1}           0.769784           0.820144           0.856115   \n",
      "11  {'C': 1.2}           0.769784           0.820144           0.856115   \n",
      "12  {'C': 1.3}           0.776978           0.820144           0.856115   \n",
      "13  {'C': 1.4}           0.776978           0.827338           0.856115   \n",
      "14  {'C': 1.5}           0.776978           0.827338           0.856115   \n",
      "15  {'C': 1.6}           0.776978           0.820144           0.856115   \n",
      "16  {'C': 1.7}           0.769784           0.827338           0.856115   \n",
      "17  {'C': 1.8}           0.769784           0.827338           0.856115   \n",
      "18  {'C': 1.9}           0.776978           0.820144           0.856115   \n",
      "19  {'C': 2.0}           0.776978           0.820144           0.856115   \n",
      "\n",
      "    mean_test_score  std_test_score  rank_test_score  split0_train_score  \\\n",
      "0          0.786571        0.049958               17            0.834532   \n",
      "1          0.784173        0.052210               20            0.820144   \n",
      "2          0.786571        0.056444               17            0.827338   \n",
      "3          0.786571        0.056444               17            0.834532   \n",
      "4          0.793765        0.047115               16            0.838129   \n",
      "5          0.798561        0.044348               15            0.845324   \n",
      "6          0.808153        0.041258               14            0.848921   \n",
      "7          0.812950        0.035244               12            0.848921   \n",
      "8          0.812950        0.035244               12            0.852518   \n",
      "9          0.815348        0.035407                9            0.852518   \n",
      "10         0.815348        0.035407                9            0.856115   \n",
      "11         0.815348        0.035407                9            0.856115   \n",
      "12         0.817746        0.032352                3            0.856115   \n",
      "13         0.820144        0.032705                1            0.852518   \n",
      "14         0.820144        0.032705                1            0.852518   \n",
      "15         0.817746        0.032352                3            0.852518   \n",
      "16         0.817746        0.035891                3            0.852518   \n",
      "17         0.817746        0.035891                3            0.852518   \n",
      "18         0.817746        0.032352                3            0.852518   \n",
      "19         0.817746        0.032352                3            0.856115   \n",
      "\n",
      "    split1_train_score  split2_train_score  mean_train_score  std_train_score  \n",
      "0             0.805755            0.784173          0.808153         0.020629  \n",
      "1             0.809353            0.794964          0.808153         0.010315  \n",
      "2             0.809353            0.809353          0.815348         0.008478  \n",
      "3             0.816547            0.816547          0.822542         0.008478  \n",
      "4             0.816547            0.827338          0.827338         0.008811  \n",
      "5             0.820144            0.823741          0.829736         0.011119  \n",
      "6             0.823741            0.820144          0.830935         0.012802  \n",
      "7             0.820144            0.820144          0.829736         0.013566  \n",
      "8             0.820144            0.820144          0.830935         0.015261  \n",
      "9             0.820144            0.823741          0.832134         0.014488  \n",
      "10            0.816547            0.823741          0.832134         0.017209  \n",
      "11            0.820144            0.823741          0.833333         0.016176  \n",
      "12            0.820144            0.820144          0.832134         0.016957  \n",
      "13            0.820144            0.820144          0.830935         0.015261  \n",
      "14            0.812950            0.823741          0.829736         0.016701  \n",
      "15            0.812950            0.823741          0.829736         0.016701  \n",
      "16            0.816547            0.823741          0.830935         0.015541  \n",
      "17            0.812950            0.827338          0.830935         0.016353  \n",
      "18            0.812950            0.827338          0.830935         0.016353  \n",
      "19            0.812950            0.827338          0.832134         0.017946  \n",
      "best accuracy score: 0.820144\n"
     ]
    },
    {
     "data": {
      "text/plain": [
       "LogisticRegression(C=1.4, class_weight=None, dual=False, fit_intercept=True,\n",
       "          intercept_scaling=1, max_iter=100, multi_class='ovr', n_jobs=1,\n",
       "          penalty='l1', random_state=42, solver='liblinear', tol=0.0001,\n",
       "          verbose=0, warm_start=False)"
      ]
     },
     "execution_count": 31,
     "metadata": {},
     "output_type": "execute_result"
    }
   ],
   "source": [
    "#Press Shift Enter on the imput lines above to activate the required definitions and load the proper libraries and functions\n",
    "#Do not worry about warnings in Pink referring to deprication\n",
    "#If you have trouble using this in Python 3, contact the instructor or lab coach\n",
    "X = training_data.drop(['Survived'], axis=1)\n",
    "y = training_data.Survived\n",
    "X_train, X_test, y_train, y_test = train_test_split(X, y, random_state=42, test_size = 0.3)\n",
    "\n",
    "\n",
    "#This splits the data into into the training and the validation sets. The validation set is used to find the metaparameter values\n",
    "complexity = [0.1, 0.2, 0.3, 0.4, 0.5, 0.6, 0.7, 0.8, 0.9,1,1.1,1.2,1.3,1.4,1.5,1.6,1.7,1.8,1.9,2.0]\n",
    "\n",
    "lg = LogisticRegression(random_state=42, penalty='l1')\n",
    "parameters = {'C': complexity}   \n",
    "#REPLACE THIS LIST OF PARAMETERS WITH A LONGER LIST OF PARAMETERS TO TEST DIFFERENT MODELS, use very large and very small numbers\n",
    "#THIS PARAMETER IS KNOWN AS A METAPARAMETER - see the documentation to read about what this parameter means\n",
    "#http://scikit-learn.org/stable/modules/generated/sklearn.linear_model.LogisticRegression.html\n",
    "\n",
    "####EXPLANATION########\n",
    "#THE LOGISTIC FUNCTION TAKES IN A LINEAR COMBINATION OF INPUTS IN THE FORM Xi = Ax1i + Bx2i + .....\n",
    "#A, B are parameters of the problem and x1 and x2 are features or predictive variables\n",
    "#When we need to fit the problem to many predictors, overfitting can result.\n",
    "#The output of the function, Yi, is between 0 and 1: 1 = 1/(1 + exp(-Xi)) where i is the ith data example\n",
    "#The cost function for logistic regression is usually the cross entropy = sum over i(Tilog(Yi))\n",
    "#Here, regularization (discussed in the lectures) or ridge regression is used: Cost Function = Cross Entropy +A/C  +B/C +....\n",
    "#The added terms A/C and B/C prevent over-fitting by keeping the parameter values of the model small\n",
    "#regularization can be done using absolute value of the parameter ('l1')\n",
    "#and it can be done using the square of the value of the parameter('l2') \n",
    "#small values of C constrain the parameter (or coefficient) values (A,B) to be small\n",
    "#large values of C do not constrain the parameters very much and approach the result using no regularization\n",
    "#but how to we know how big to make the regularization parameter C ?\n",
    "\n",
    "\n",
    "###ASSIGNMENT####\n",
    "#Fit this logistic regression with a dictionary of values for C, instead of just one value\n",
    "#And see which is the best value for the metaparameter, using the accuracy score, as defined below\n",
    "#Plot the accuracy as a function of C for the cross validation set and the training set\n",
    "\n",
    "\n",
    "# Use classification accuracy to compare parameter combinations\n",
    "acc_scorer_lg = make_scorer(accuracy_score)  #accuracy score is defined as a function in sklearn metrics. It computes the number of properly classified outputs\n",
    "\n",
    "\n",
    "\n",
    "# Run a grid search for the Logistic Regression classifier and all the selected parameters\n",
    "grid_obj_lg = GridSearchCV(lg, parameters, scoring=acc_scorer_lg) #parameters are arguments to the lg classifier algorithm\n",
    "grid_obj_lg = grid_obj_lg.fit(X_train, y_train)\n",
    "\n",
    "\n",
    "\n",
    "\n",
    "# Set our classifier, lg, to have the best combination of parameters\n",
    "GridCVoutput = grid_obj_lg.cv_results_#Find the attribute that shows the output of the GridSearchCV program from the documentation\n",
    "\n",
    "#Go to the documentation to find out how to output the results of GridCVoutput for all the parameter choices:\n",
    "#http://scikit-learn.org/stable/modules/generated/sklearn.model_selection.GridSearchCV.html\n",
    "\n",
    "print(pd.DataFrame(GridCVoutput)) #Printout the Output\n",
    "\n",
    "GSCVError = 1 - pd.DataFrame(GridCVoutput).mean_test_score  #prediction error on cross validation set for each value of C\n",
    "GSTrError = 1 - pd.DataFrame(GridCVoutput).mean_train_score  #prediction error on training set for each value of C\n",
    "\n",
    "\n",
    "lg = grid_obj_lg.best_estimator_  #3.\tSee which is the best value for the metaparameter, using the accuracy score, as defined below\n",
    "print(\"best accuracy score: %f\" % grid_obj_lg.best_score_)\n",
    "# Fit the selected classifier to the training data. \n",
    "lg.fit(X_train, y_train)\n",
    "\n"
   ]
  },
  {
   "cell_type": "code",
   "execution_count": 32,
   "metadata": {
    "collapsed": false,
    "jupyter": {
     "outputs_hidden": false
    }
   },
   "outputs": [
    {
     "data": {
      "text/plain": [
       "[<matplotlib.lines.Line2D at 0xc15c4e0>]"
      ]
     },
     "execution_count": 32,
     "metadata": {},
     "output_type": "execute_result"
    },
    {
     "data": {
      "image/png": "[encoded data removed]",
      "text/plain": [
       "<Figure size 720x432 with 1 Axes>"
      ]
     },
     "metadata": {},
     "output_type": "display_data"
    }
   ],
   "source": [
    "plt.figure(figsize=(10,6))\n",
    "plt.title(\"Underfitting\")\n",
    "    \n",
    "   \n",
    "        \n",
    "plt.xlabel(\"Complexity, C = 1/lambda\")\n",
    "plt.ylabel(\"error_rate\")\n",
    "plt.plot(complexity, GSCVError, 'o-', color=\"r\", label=\"Mean Cross Validation Error Rate from GridSearchCV\")\n",
    "plt.plot(complexity, GSTrError, 'o-', color=\"g\", label=\"Mean GCross Validation Error Rate from GridSearchCV\")\n",
    "   "
   ]
  },
  {
   "cell_type": "markdown",
   "metadata": {},
   "source": [
    "# Note that higher values of C stay at a relative constant level, which means that the regularization is not making a difference, it is effectively 0. You should try and test a few different lists of C values, both higher and lower than 0.5. I chose these to graph because they best illustrate the behaviour of the model with changes in hyperparameter, C. There is no overfitting in this model. "
   ]
  },
  {
   "cell_type": "markdown",
   "metadata": {},
   "source": [
    "The following are not my answers: They were on the original file. I am not sure whether this was intentional. Shahram Tavakoli 25 July 2018\n",
    "6.\tExplain why the accuracy printed here is not the same as that in the plot below or in the output from the GridSearchCV function (see Jupyter Notebook)\n",
    "\n",
    "This refers to the print statement below:  predictions_lg = lg.predict(X_test)\n",
    "print(accuracy_score(y_test, predictions_lg))\n",
    "\n",
    "The scores are different because they are found on different subsets of the Titanic dataset. GridSearchCV is applied to the subsets X_train and y_train that were defined at the beginning of what is here labelled as input 76 in the line: X_train, X_test, y_train, y_test = train_test_split(X, y, random_state=42, test_size = 0.3). GridSearchCV further subdivides X_train and y_train into two sets that it calls \"train\" and \"test\" sets. This \"test\" set used by GridSearchCV is the cross validation set that is used to choose the best value of the hyperparameter, C.  The data input to the learning curve function is again different. The sets are called \"X,y \" the learning curve function will split this again into different randomized subsamples. There is some random error in the accuracy score, so it will not be *exactly* the same for different subsamples of the dataset. However, you should expect it to be close.\n",
    "\n",
    "7.\tWhich value of the accuracy is expected for the estimates of outcomes from data the estimator has not seen before?\n",
    "\n",
    "The accuracy printed out below: print(accuracy_score(y_test, predictions_lg) is the expected accuracy because it is taken on the test set. The accuracies printed from GridsSearchCV were used to select the hyperparameter, C, so there is some bias already in that \"C\" could be overfit. We need completely new, unseen data sampled from the population of interest to predict the accuracy of future predictions on new, unseen data.\n",
    "\n",
    "8.\tExplain why the accuracy of the learning curve decreases with the number of training examples for the training score, but increases with the number of examples for the cross-validation score, consider over-fitting, bias and variance in your answer\n",
    "\n",
    "When sample size is small, there is over-fitting on the training set. The produces low error on the training set because the \"random noise\" has been fit, and high error on the cross-validation set, which has different noise because it is a different subsample of the population. As the size of the data set is increased, over-fitting is less relevant because the number of data points greatly excedes the number of fit parameters, the \"noise\" becomes less idio-syncratic and more representative of the sample and therefor, more similar to the cross validation set. Think of standard error of the mean = sigma/sqrt(N) and how it decreases with sample size. In this case, the accuracy does not decrease on the training set because there was very little over-fitting. However, there is a large gap between the accuracy of the test set and the training set, indicating some overfitting.\n",
    "\n",
    "9.\tWhat is the difference between the accuracy quoted in the learning curve and the accuracy you plotted as a function of C?\n",
    "\n",
    "The accuracy plotted on the learning curve is the accuracy obtained on randomized samples from the set X,y of different sizes, for the model lg = grid_obj_lg.best_estimator_ . i.e. with C at its best value. The accuracy we plotted as a function of C, is for the linear regression model with subsamples of the same size, but different values of C.\n",
    "\n",
    "10.\tGiven the outcomes for the cross validation accuracy and training accuracy as a function of the parameter values, C, do you think that regularization is helpful here? Refer to the lecture notes on regularization and the sklearn documentation on logistic regression  \n",
    "No. The larger the value of C, the more the accuracy seems to be assymptotically approaching a best value. Large C assymptotically approaches to lambda = 0, which means no regularization is best."
   ]
  },
  {
   "cell_type": "markdown",
   "metadata": {},
   "source": [
    "\n",
    "\n",
    "\n",
    "\n",
    "Plot the mean accuracy, the \"learning curve\", of the classifier on both the training and validation datasets."
   ]
  },
  {
   "cell_type": "code",
   "execution_count": 33,
   "metadata": {
    "collapsed": false,
    "jupyter": {
     "outputs_hidden": false
    }
   },
   "outputs": [
    {
     "name": "stdout",
     "output_type": "stream",
     "text": [
      "0.7877094972067039\n"
     ]
    },
    {
     "data": {
      "text/plain": [
       "<module 'matplotlib.pyplot' from 'C:\\\\Users\\\\Shahram\\\\Anaconda3\\\\lib\\\\site-packages\\\\matplotlib\\\\pyplot.py'>"
      ]
     },
     "execution_count": 33,
     "metadata": {},
     "output_type": "execute_result"
    },
    {
     "data": {
      "image/png": "[encoded data removed]",
      "text/plain": [
       "<Figure size 720x432 with 1 Axes>"
      ]
     },
     "metadata": {},
     "output_type": "display_data"
    }
   ],
   "source": [
    "predictions_lg = lg.predict(X_test)\n",
    "print(accuracy_score(y_test, predictions_lg))\n",
    "#Explain why the accuracy printed here is not the same as that in the plot below or in the output from the GridSearchCV function\n",
    "#Which value of the accuracy is expected for the estimates of outcomes from data the estimator has not seen before?\n",
    "X_shuf, y_shuf = shuffle(X, y)\n",
    "\n",
    "plot_learning_curve(lg, 'Logistic Regression', X_shuf, y_shuf, cv=4)\n",
    "\n",
    "#Explain why the accuracy of the learning curve decreases with the number of training examples for the training score, \n",
    "#but increases with the number of examples for the cross-validation score\n",
    "#consider over-fitting in your answer\n",
    "#What is the difference between the accuracy quoted in the learning curve and the accuracy you plotted as a function of C?\n",
    "#Given the outcomes for the cross validation accuracy and training accuracy as a function of the parameter values, C, do you think \n",
    "#that regularization is helpful here? Refer to the lecture notes on regularization and the sklearn documentation on logistic regression"
   ]
  },
  {
   "cell_type": "markdown",
   "metadata": {},
   "source": [
    " "
   ]
  }
 ],
 "metadata": {
  "anaconda-cloud": {},
  "kernelspec": {
   "display_name": "Python 3",
   "language": "python",
   "name": "python3"
  },
  "language_info": {
   "codemirror_mode": {
    "name": "ipython",
    "version": 3
   },
   "file_extension": ".py",
   "mimetype": "text/x-python",
   "name": "python",
   "nbconvert_exporter": "python",
   "pygments_lexer": "ipython3",
   "version": "3.7.4"
  }
 },
 "nbformat": 4,
 "nbformat_minor": 4
}
